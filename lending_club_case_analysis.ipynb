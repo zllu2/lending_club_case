{
 "cells": [
  {
   "cell_type": "markdown",
   "id": "eceae8fe-1db1-4b62-b956-f6f9eca2c02d",
   "metadata": {},
   "source": [
    "# Lending Club Data Analysis\n",
    "\n",
    "This notebook includes sample code that addresses requirements 1 through 9."
   ]
  },
  {
   "cell_type": "markdown",
   "id": "5fc25a9d-cdaf-4c64-baeb-ad3db4d34adf",
   "metadata": {},
   "source": [
    "## Requirment 1. Understanding Lending Club Operations\n",
    "\n",
    "- **Research and describe** how Lending Club operates, including the processes for both borrowers and investors.\n",
    "- **Outline** the different types of loans available, their terms, interest rates, and associated fees."
   ]
  },
  {
   "cell_type": "markdown",
   "id": "e55acc8d-7c35-48f7-a840-1082fd2d5034",
   "metadata": {
    "tags": []
   },
   "source": [
    "## Requirement 2. Exploring the Lending Club Loan Dataset through Descriptive Statistics and Visualizations\n",
    "\n",
    "- **Describe the Dataset:** Provide an overview and detailed explanations for each column in the dataset.\n",
    "- **Generate Descriptive Statistics:** Compute and present basic statistical metrics to understand the dataset's characteristics.\n",
    "- **Create Visualizations:** Develop visual representations to explore data characteristics and relationships between features.\n",
    "\n"
   ]
  },
  {
   "cell_type": "code",
   "execution_count": 1,
   "id": "840a8dd7-6b38-4674-9388-cc07b4cd0178",
   "metadata": {
    "tags": []
   },
   "outputs": [],
   "source": [
    "import numpy as np\n",
    "import pandas as pd\n",
    "import seaborn as sns\n",
    "import matplotlib.pyplot as plt\n",
    "\n",
    "#display all dataframe columns in df.head()\n",
    "pd.options.display.max_columns = None\n",
    "\n",
    "#display long string in datafame\n",
    "pd.options.display.max_colwidth = 300\n",
    "\n",
    "#filter out warning messages\n",
    "import warnings\n",
    "warnings.filterwarnings('ignore')\n",
    "\n",
    "sns.set()"
   ]
  },
  {
   "cell_type": "code",
   "execution_count": 2,
   "id": "ee9d9979-dead-4e21-86c4-6b551d2e436d",
   "metadata": {
    "tags": []
   },
   "outputs": [
    {
     "data": {
      "text/html": [
       "<div>\n",
       "<style scoped>\n",
       "    .dataframe tbody tr th:only-of-type {\n",
       "        vertical-align: middle;\n",
       "    }\n",
       "\n",
       "    .dataframe tbody tr th {\n",
       "        vertical-align: top;\n",
       "    }\n",
       "\n",
       "    .dataframe thead th {\n",
       "        text-align: right;\n",
       "    }\n",
       "</style>\n",
       "<table border=\"1\" class=\"dataframe\">\n",
       "  <thead>\n",
       "    <tr style=\"text-align: right;\">\n",
       "      <th></th>\n",
       "      <th>loan_amnt</th>\n",
       "      <th>loan_term_year</th>\n",
       "      <th>grade</th>\n",
       "      <th>int_rate</th>\n",
       "      <th>purpose</th>\n",
       "      <th>annual_inc</th>\n",
       "      <th>emp_length</th>\n",
       "      <th>verification_status</th>\n",
       "      <th>home_ownership</th>\n",
       "      <th>addr_state</th>\n",
       "      <th>dti</th>\n",
       "      <th>total_acc</th>\n",
       "      <th>total_pymnt</th>\n",
       "      <th>recoveries</th>\n",
       "      <th>collection_recovery_fee</th>\n",
       "      <th>loan_status</th>\n",
       "      <th>repaid</th>\n",
       "      <th>annual_return</th>\n",
       "    </tr>\n",
       "  </thead>\n",
       "  <tbody>\n",
       "    <tr>\n",
       "      <th>0</th>\n",
       "      <td>2400</td>\n",
       "      <td>3</td>\n",
       "      <td>C</td>\n",
       "      <td>15.96</td>\n",
       "      <td>small_business</td>\n",
       "      <td>12252.0</td>\n",
       "      <td>10+ years</td>\n",
       "      <td>Not Verified</td>\n",
       "      <td>RENT</td>\n",
       "      <td>IL</td>\n",
       "      <td>8.72</td>\n",
       "      <td>10.0</td>\n",
       "      <td>3005.666844</td>\n",
       "      <td>0.00</td>\n",
       "      <td>0.00</td>\n",
       "      <td>Fully Paid</td>\n",
       "      <td>1</td>\n",
       "      <td>0.232450</td>\n",
       "    </tr>\n",
       "    <tr>\n",
       "      <th>1</th>\n",
       "      <td>10000</td>\n",
       "      <td>3</td>\n",
       "      <td>C</td>\n",
       "      <td>13.49</td>\n",
       "      <td>other</td>\n",
       "      <td>49200.0</td>\n",
       "      <td>10+ years</td>\n",
       "      <td>Source Verified</td>\n",
       "      <td>RENT</td>\n",
       "      <td>CA</td>\n",
       "      <td>20.00</td>\n",
       "      <td>37.0</td>\n",
       "      <td>12231.890000</td>\n",
       "      <td>0.00</td>\n",
       "      <td>0.00</td>\n",
       "      <td>Fully Paid</td>\n",
       "      <td>1</td>\n",
       "      <td>0.211337</td>\n",
       "    </tr>\n",
       "    <tr>\n",
       "      <th>2</th>\n",
       "      <td>3000</td>\n",
       "      <td>3</td>\n",
       "      <td>E</td>\n",
       "      <td>18.64</td>\n",
       "      <td>car</td>\n",
       "      <td>48000.0</td>\n",
       "      <td>9 years</td>\n",
       "      <td>Source Verified</td>\n",
       "      <td>RENT</td>\n",
       "      <td>CA</td>\n",
       "      <td>5.35</td>\n",
       "      <td>4.0</td>\n",
       "      <td>3939.135294</td>\n",
       "      <td>0.00</td>\n",
       "      <td>0.00</td>\n",
       "      <td>Fully Paid</td>\n",
       "      <td>1</td>\n",
       "      <td>0.273831</td>\n",
       "    </tr>\n",
       "    <tr>\n",
       "      <th>3</th>\n",
       "      <td>5600</td>\n",
       "      <td>5</td>\n",
       "      <td>F</td>\n",
       "      <td>21.28</td>\n",
       "      <td>small_business</td>\n",
       "      <td>40000.0</td>\n",
       "      <td>4 years</td>\n",
       "      <td>Source Verified</td>\n",
       "      <td>OWN</td>\n",
       "      <td>CA</td>\n",
       "      <td>5.55</td>\n",
       "      <td>13.0</td>\n",
       "      <td>647.500000</td>\n",
       "      <td>190.54</td>\n",
       "      <td>2.09</td>\n",
       "      <td>Charged Off</td>\n",
       "      <td>0</td>\n",
       "      <td>-0.999988</td>\n",
       "    </tr>\n",
       "    <tr>\n",
       "      <th>4</th>\n",
       "      <td>5375</td>\n",
       "      <td>5</td>\n",
       "      <td>B</td>\n",
       "      <td>12.69</td>\n",
       "      <td>other</td>\n",
       "      <td>15000.0</td>\n",
       "      <td>&lt; 1 year</td>\n",
       "      <td>Verified</td>\n",
       "      <td>RENT</td>\n",
       "      <td>TX</td>\n",
       "      <td>18.08</td>\n",
       "      <td>3.0</td>\n",
       "      <td>1484.590000</td>\n",
       "      <td>277.69</td>\n",
       "      <td>2.52</td>\n",
       "      <td>Charged Off</td>\n",
       "      <td>0</td>\n",
       "      <td>-0.888376</td>\n",
       "    </tr>\n",
       "  </tbody>\n",
       "</table>\n",
       "</div>"
      ],
      "text/plain": [
       "   loan_amnt  loan_term_year grade  int_rate         purpose  annual_inc  \\\n",
       "0       2400               3     C     15.96  small_business     12252.0   \n",
       "1      10000               3     C     13.49           other     49200.0   \n",
       "2       3000               3     E     18.64             car     48000.0   \n",
       "3       5600               5     F     21.28  small_business     40000.0   \n",
       "4       5375               5     B     12.69           other     15000.0   \n",
       "\n",
       "  emp_length verification_status home_ownership addr_state    dti  total_acc  \\\n",
       "0  10+ years        Not Verified           RENT         IL   8.72       10.0   \n",
       "1  10+ years     Source Verified           RENT         CA  20.00       37.0   \n",
       "2    9 years     Source Verified           RENT         CA   5.35        4.0   \n",
       "3    4 years     Source Verified            OWN         CA   5.55       13.0   \n",
       "4   < 1 year            Verified           RENT         TX  18.08        3.0   \n",
       "\n",
       "    total_pymnt  recoveries  collection_recovery_fee  loan_status  repaid  \\\n",
       "0   3005.666844        0.00                     0.00   Fully Paid       1   \n",
       "1  12231.890000        0.00                     0.00   Fully Paid       1   \n",
       "2   3939.135294        0.00                     0.00   Fully Paid       1   \n",
       "3    647.500000      190.54                     2.09  Charged Off       0   \n",
       "4   1484.590000      277.69                     2.52  Charged Off       0   \n",
       "\n",
       "   annual_return  \n",
       "0       0.232450  \n",
       "1       0.211337  \n",
       "2       0.273831  \n",
       "3      -0.999988  \n",
       "4      -0.888376  "
      ]
     },
     "execution_count": 2,
     "metadata": {},
     "output_type": "execute_result"
    }
   ],
   "source": [
    "loan_df = pd.read_csv('lending_club_loan_data.csv')\n",
    "loan_df.head()"
   ]
  },
  {
   "cell_type": "code",
   "execution_count": 3,
   "id": "309e7907-f2f5-4881-9e48-19dd9f0b32dc",
   "metadata": {
    "tags": []
   },
   "outputs": [
    {
     "name": "stdout",
     "output_type": "stream",
     "text": [
      "<class 'pandas.core.frame.DataFrame'>\n",
      "RangeIndex: 19908 entries, 0 to 19907\n",
      "Data columns (total 18 columns):\n",
      " #   Column                   Non-Null Count  Dtype  \n",
      "---  ------                   --------------  -----  \n",
      " 0   loan_amnt                19908 non-null  int64  \n",
      " 1   loan_term_year           19908 non-null  int64  \n",
      " 2   grade                    19908 non-null  object \n",
      " 3   int_rate                 19908 non-null  float64\n",
      " 4   purpose                  19908 non-null  object \n",
      " 5   annual_inc               19908 non-null  float64\n",
      " 6   emp_length               19908 non-null  object \n",
      " 7   verification_status      19908 non-null  object \n",
      " 8   home_ownership           19908 non-null  object \n",
      " 9   addr_state               19908 non-null  object \n",
      " 10  dti                      19908 non-null  float64\n",
      " 11  total_acc                19908 non-null  float64\n",
      " 12  total_pymnt              19908 non-null  float64\n",
      " 13  recoveries               19908 non-null  float64\n",
      " 14  collection_recovery_fee  19908 non-null  float64\n",
      " 15  loan_status              19908 non-null  object \n",
      " 16  repaid                   19908 non-null  int64  \n",
      " 17  annual_return            19908 non-null  float64\n",
      "dtypes: float64(8), int64(3), object(7)\n",
      "memory usage: 2.7+ MB\n"
     ]
    }
   ],
   "source": [
    "loan_df.info()"
   ]
  },
  {
   "cell_type": "code",
   "execution_count": 4,
   "id": "391fc3d6-287e-4fb8-a64c-15c2ea25f989",
   "metadata": {
    "tags": []
   },
   "outputs": [
    {
     "data": {
      "text/html": [
       "<div>\n",
       "<style scoped>\n",
       "    .dataframe tbody tr th:only-of-type {\n",
       "        vertical-align: middle;\n",
       "    }\n",
       "\n",
       "    .dataframe tbody tr th {\n",
       "        vertical-align: top;\n",
       "    }\n",
       "\n",
       "    .dataframe thead th {\n",
       "        text-align: right;\n",
       "    }\n",
       "</style>\n",
       "<table border=\"1\" class=\"dataframe\">\n",
       "  <thead>\n",
       "    <tr style=\"text-align: right;\">\n",
       "      <th></th>\n",
       "      <th>Column Name</th>\n",
       "      <th>Description</th>\n",
       "    </tr>\n",
       "  </thead>\n",
       "  <tbody>\n",
       "    <tr>\n",
       "      <th>0</th>\n",
       "      <td>addr_state</td>\n",
       "      <td>The state provided by the borrower in the loan application.</td>\n",
       "    </tr>\n",
       "    <tr>\n",
       "      <th>1</th>\n",
       "      <td>annual_inc</td>\n",
       "      <td>The self-reported annual income provided by the borrower during registration.</td>\n",
       "    </tr>\n",
       "    <tr>\n",
       "      <th>2</th>\n",
       "      <td>collection_recovery_fee</td>\n",
       "      <td>Post charge off collection fee.</td>\n",
       "    </tr>\n",
       "    <tr>\n",
       "      <th>3</th>\n",
       "      <td>dti</td>\n",
       "      <td>A ratio calculated using the borrower's total monthly debt payments on the total debt obligations, excluding mortgage and the requested LC loan, divided by the borrower's self-reported monthly income.</td>\n",
       "    </tr>\n",
       "    <tr>\n",
       "      <th>4</th>\n",
       "      <td>emp_length</td>\n",
       "      <td>Employment length in years. Possible values are between 0 and 10 where 0 means less than one year and 10 means ten or more years.</td>\n",
       "    </tr>\n",
       "    <tr>\n",
       "      <th>5</th>\n",
       "      <td>grade</td>\n",
       "      <td>LC assigned loan grade.</td>\n",
       "    </tr>\n",
       "    <tr>\n",
       "      <th>6</th>\n",
       "      <td>home_ownership</td>\n",
       "      <td>The home ownership status provided by the borrower during registration or obtained from the credit report. Possible values are: RENT, OWN, MORTGAGE, OTHER.</td>\n",
       "    </tr>\n",
       "    <tr>\n",
       "      <th>7</th>\n",
       "      <td>int_rate</td>\n",
       "      <td>Interest Rate on the loan.</td>\n",
       "    </tr>\n",
       "    <tr>\n",
       "      <th>8</th>\n",
       "      <td>loan_amnt</td>\n",
       "      <td>The listed amount of the loan applied for by the borrower. If at some point in time, the credit department reduces the loan amount, then it will be reflected in this value.</td>\n",
       "    </tr>\n",
       "    <tr>\n",
       "      <th>9</th>\n",
       "      <td>loan_status</td>\n",
       "      <td>Current status of the loan</td>\n",
       "    </tr>\n",
       "    <tr>\n",
       "      <th>10</th>\n",
       "      <td>purpose</td>\n",
       "      <td>A category provided by the borrower for the loan request.</td>\n",
       "    </tr>\n",
       "    <tr>\n",
       "      <th>11</th>\n",
       "      <td>recoveries</td>\n",
       "      <td>Post charge off gross recovery.</td>\n",
       "    </tr>\n",
       "    <tr>\n",
       "      <th>12</th>\n",
       "      <td>total_acc</td>\n",
       "      <td>The total number of credit lines currently in the borrower's credit file.</td>\n",
       "    </tr>\n",
       "    <tr>\n",
       "      <th>13</th>\n",
       "      <td>total_pymnt</td>\n",
       "      <td>Payments received to date for total amount funded.</td>\n",
       "    </tr>\n",
       "    <tr>\n",
       "      <th>14</th>\n",
       "      <td>verification_status</td>\n",
       "      <td>Indicates if income was verified by LC, not verified, or if the income source was verified.</td>\n",
       "    </tr>\n",
       "    <tr>\n",
       "      <th>15</th>\n",
       "      <td>loan_term_year</td>\n",
       "      <td>Loan term in year.</td>\n",
       "    </tr>\n",
       "    <tr>\n",
       "      <th>16</th>\n",
       "      <td>repaid</td>\n",
       "      <td>1 if loan status is fully paid,0 if charged off.</td>\n",
       "    </tr>\n",
       "    <tr>\n",
       "      <th>17</th>\n",
       "      <td>annual_return</td>\n",
       "      <td>Annual return of the investment on the loan, calculated from payment information, based on the assumption that monthly payment is reinvested at 5% annual return.</td>\n",
       "    </tr>\n",
       "  </tbody>\n",
       "</table>\n",
       "</div>"
      ],
      "text/plain": [
       "                Column Name  \\\n",
       "0                addr_state   \n",
       "1                annual_inc   \n",
       "2   collection_recovery_fee   \n",
       "3                       dti   \n",
       "4                emp_length   \n",
       "5                     grade   \n",
       "6            home_ownership   \n",
       "7                  int_rate   \n",
       "8                 loan_amnt   \n",
       "9               loan_status   \n",
       "10                  purpose   \n",
       "11               recoveries   \n",
       "12                total_acc   \n",
       "13              total_pymnt   \n",
       "14      verification_status   \n",
       "15           loan_term_year   \n",
       "16                   repaid   \n",
       "17            annual_return   \n",
       "\n",
       "                                                                                                                                                                                                 Description  \n",
       "0                                                                                                                                                The state provided by the borrower in the loan application.  \n",
       "1                                                                                                                              The self-reported annual income provided by the borrower during registration.  \n",
       "2                                                                                                                                                                            Post charge off collection fee.  \n",
       "3   A ratio calculated using the borrower's total monthly debt payments on the total debt obligations, excluding mortgage and the requested LC loan, divided by the borrower's self-reported monthly income.  \n",
       "4                                                                         Employment length in years. Possible values are between 0 and 10 where 0 means less than one year and 10 means ten or more years.   \n",
       "5                                                                                                                                                                                    LC assigned loan grade.  \n",
       "6                                                The home ownership status provided by the borrower during registration or obtained from the credit report. Possible values are: RENT, OWN, MORTGAGE, OTHER.  \n",
       "7                                                                                                                                                                                 Interest Rate on the loan.  \n",
       "8                               The listed amount of the loan applied for by the borrower. If at some point in time, the credit department reduces the loan amount, then it will be reflected in this value.  \n",
       "9                                                                                                                                                                                 Current status of the loan  \n",
       "10                                                                                                                                                A category provided by the borrower for the loan request.   \n",
       "11                                                                                                                                                                           Post charge off gross recovery.  \n",
       "12                                                                                                                                 The total number of credit lines currently in the borrower's credit file.  \n",
       "13                                                                                                                                                        Payments received to date for total amount funded.  \n",
       "14                                                                                                               Indicates if income was verified by LC, not verified, or if the income source was verified.  \n",
       "15                                                                                                                                                                                        Loan term in year.  \n",
       "16                                                                                                                                                          1 if loan status is fully paid,0 if charged off.  \n",
       "17                                         Annual return of the investment on the loan, calculated from payment information, based on the assumption that monthly payment is reinvested at 5% annual return.  "
      ]
     },
     "execution_count": 4,
     "metadata": {},
     "output_type": "execute_result"
    }
   ],
   "source": [
    "data_dictionary = pd.read_csv('lending_club_data_dictionary.csv')\n",
    "data_dictionary"
   ]
  },
  {
   "cell_type": "code",
   "execution_count": 5,
   "id": "46126471-25a5-4dd3-9bb3-1744deca4f95",
   "metadata": {
    "tags": []
   },
   "outputs": [
    {
     "data": {
      "text/html": [
       "<div>\n",
       "<style scoped>\n",
       "    .dataframe tbody tr th:only-of-type {\n",
       "        vertical-align: middle;\n",
       "    }\n",
       "\n",
       "    .dataframe tbody tr th {\n",
       "        vertical-align: top;\n",
       "    }\n",
       "\n",
       "    .dataframe thead th {\n",
       "        text-align: right;\n",
       "    }\n",
       "</style>\n",
       "<table border=\"1\" class=\"dataframe\">\n",
       "  <thead>\n",
       "    <tr style=\"text-align: right;\">\n",
       "      <th></th>\n",
       "      <th>loan_amnt</th>\n",
       "      <th>loan_term_year</th>\n",
       "      <th>int_rate</th>\n",
       "      <th>annual_inc</th>\n",
       "      <th>dti</th>\n",
       "      <th>total_acc</th>\n",
       "      <th>total_pymnt</th>\n",
       "      <th>recoveries</th>\n",
       "      <th>collection_recovery_fee</th>\n",
       "      <th>repaid</th>\n",
       "      <th>annual_return</th>\n",
       "    </tr>\n",
       "  </thead>\n",
       "  <tbody>\n",
       "    <tr>\n",
       "      <th>count</th>\n",
       "      <td>19908.000000</td>\n",
       "      <td>19908.000000</td>\n",
       "      <td>19908.000000</td>\n",
       "      <td>1.990800e+04</td>\n",
       "      <td>19908.000000</td>\n",
       "      <td>19908.000000</td>\n",
       "      <td>19908.000000</td>\n",
       "      <td>19908.000000</td>\n",
       "      <td>19908.000000</td>\n",
       "      <td>19908.00000</td>\n",
       "      <td>19908.000000</td>\n",
       "    </tr>\n",
       "    <tr>\n",
       "      <th>mean</th>\n",
       "      <td>11353.846444</td>\n",
       "      <td>3.507937</td>\n",
       "      <td>12.089717</td>\n",
       "      <td>7.107345e+04</td>\n",
       "      <td>13.008619</td>\n",
       "      <td>21.527627</td>\n",
       "      <td>12286.852391</td>\n",
       "      <td>94.722382</td>\n",
       "      <td>11.861625</td>\n",
       "      <td>0.85217</td>\n",
       "      <td>0.071528</td>\n",
       "    </tr>\n",
       "    <tr>\n",
       "      <th>std</th>\n",
       "      <td>7463.700492</td>\n",
       "      <td>0.870581</td>\n",
       "      <td>3.698287</td>\n",
       "      <td>6.980565e+04</td>\n",
       "      <td>6.663658</td>\n",
       "      <td>11.269006</td>\n",
       "      <td>9098.847567</td>\n",
       "      <td>666.434583</td>\n",
       "      <td>141.910324</td>\n",
       "      <td>0.35494</td>\n",
       "      <td>0.284831</td>\n",
       "    </tr>\n",
       "    <tr>\n",
       "      <th>min</th>\n",
       "      <td>500.000000</td>\n",
       "      <td>3.000000</td>\n",
       "      <td>5.420000</td>\n",
       "      <td>4.000000e+03</td>\n",
       "      <td>0.000000</td>\n",
       "      <td>2.000000</td>\n",
       "      <td>0.000000</td>\n",
       "      <td>0.000000</td>\n",
       "      <td>0.000000</td>\n",
       "      <td>0.00000</td>\n",
       "      <td>-1.000000</td>\n",
       "    </tr>\n",
       "    <tr>\n",
       "      <th>25%</th>\n",
       "      <td>5750.000000</td>\n",
       "      <td>3.000000</td>\n",
       "      <td>9.450000</td>\n",
       "      <td>4.200000e+04</td>\n",
       "      <td>7.840000</td>\n",
       "      <td>13.000000</td>\n",
       "      <td>5670.592545</td>\n",
       "      <td>0.000000</td>\n",
       "      <td>0.000000</td>\n",
       "      <td>1.00000</td>\n",
       "      <td>0.109808</td>\n",
       "    </tr>\n",
       "    <tr>\n",
       "      <th>50%</th>\n",
       "      <td>10000.000000</td>\n",
       "      <td>3.000000</td>\n",
       "      <td>11.860000</td>\n",
       "      <td>6.000000e+04</td>\n",
       "      <td>13.075000</td>\n",
       "      <td>20.000000</td>\n",
       "      <td>10042.735817</td>\n",
       "      <td>0.000000</td>\n",
       "      <td>0.000000</td>\n",
       "      <td>1.00000</td>\n",
       "      <td>0.155620</td>\n",
       "    </tr>\n",
       "    <tr>\n",
       "      <th>75%</th>\n",
       "      <td>15000.000000</td>\n",
       "      <td>5.000000</td>\n",
       "      <td>14.610000</td>\n",
       "      <td>8.500000e+04</td>\n",
       "      <td>18.200000</td>\n",
       "      <td>28.000000</td>\n",
       "      <td>16681.688450</td>\n",
       "      <td>0.000000</td>\n",
       "      <td>0.000000</td>\n",
       "      <td>1.00000</td>\n",
       "      <td>0.197859</td>\n",
       "    </tr>\n",
       "    <tr>\n",
       "      <th>max</th>\n",
       "      <td>35000.000000</td>\n",
       "      <td>5.000000</td>\n",
       "      <td>24.400000</td>\n",
       "      <td>6.000000e+06</td>\n",
       "      <td>29.990000</td>\n",
       "      <td>90.000000</td>\n",
       "      <td>58480.139915</td>\n",
       "      <td>29623.350000</td>\n",
       "      <td>6543.040000</td>\n",
       "      <td>1.00000</td>\n",
       "      <td>0.650391</td>\n",
       "    </tr>\n",
       "  </tbody>\n",
       "</table>\n",
       "</div>"
      ],
      "text/plain": [
       "          loan_amnt  loan_term_year      int_rate    annual_inc           dti  \\\n",
       "count  19908.000000    19908.000000  19908.000000  1.990800e+04  19908.000000   \n",
       "mean   11353.846444        3.507937     12.089717  7.107345e+04     13.008619   \n",
       "std     7463.700492        0.870581      3.698287  6.980565e+04      6.663658   \n",
       "min      500.000000        3.000000      5.420000  4.000000e+03      0.000000   \n",
       "25%     5750.000000        3.000000      9.450000  4.200000e+04      7.840000   \n",
       "50%    10000.000000        3.000000     11.860000  6.000000e+04     13.075000   \n",
       "75%    15000.000000        5.000000     14.610000  8.500000e+04     18.200000   \n",
       "max    35000.000000        5.000000     24.400000  6.000000e+06     29.990000   \n",
       "\n",
       "          total_acc   total_pymnt    recoveries  collection_recovery_fee  \\\n",
       "count  19908.000000  19908.000000  19908.000000             19908.000000   \n",
       "mean      21.527627  12286.852391     94.722382                11.861625   \n",
       "std       11.269006   9098.847567    666.434583               141.910324   \n",
       "min        2.000000      0.000000      0.000000                 0.000000   \n",
       "25%       13.000000   5670.592545      0.000000                 0.000000   \n",
       "50%       20.000000  10042.735817      0.000000                 0.000000   \n",
       "75%       28.000000  16681.688450      0.000000                 0.000000   \n",
       "max       90.000000  58480.139915  29623.350000              6543.040000   \n",
       "\n",
       "            repaid  annual_return  \n",
       "count  19908.00000   19908.000000  \n",
       "mean       0.85217       0.071528  \n",
       "std        0.35494       0.284831  \n",
       "min        0.00000      -1.000000  \n",
       "25%        1.00000       0.109808  \n",
       "50%        1.00000       0.155620  \n",
       "75%        1.00000       0.197859  \n",
       "max        1.00000       0.650391  "
      ]
     },
     "execution_count": 5,
     "metadata": {},
     "output_type": "execute_result"
    }
   ],
   "source": [
    "loan_df.describe()"
   ]
  },
  {
   "cell_type": "markdown",
   "id": "33061bf5-5d2e-4406-a3d5-2617f26a9e5a",
   "metadata": {},
   "source": [
    "#### Loan Grade\n",
    "How many different loan grades are there in the dataset? What's the distribution?\n",
    "\n",
    "- Plot a bar chart for grade. The x axis is the loan grade and the y axis is the count of loans. The plot should have x and y axis labels and a proper title.\n",
    "- Briefly discuss the results.\n",
    "\n",
    "Hint: You may use seaborn countplot. To sort the loan grade you may set `order=sorted(loan_df.grade.unique())` in the countplot."
   ]
  },
  {
   "cell_type": "code",
   "execution_count": 6,
   "id": "e8132518-1823-447f-a446-42415e307cee",
   "metadata": {
    "tags": []
   },
   "outputs": [
    {
     "data": {
      "text/plain": [
       "grade\n",
       "B    6065\n",
       "A    4875\n",
       "C    4087\n",
       "D    2748\n",
       "E    1434\n",
       "F     540\n",
       "G     159\n",
       "Name: count, dtype: int64"
      ]
     },
     "execution_count": 6,
     "metadata": {},
     "output_type": "execute_result"
    }
   ],
   "source": [
    "loan_df.grade.value_counts()"
   ]
  },
  {
   "cell_type": "code",
   "execution_count": 7,
   "id": "375c9ecd-94d9-4ab2-a3c6-a60964bf1a48",
   "metadata": {
    "tags": []
   },
   "outputs": [
    {
     "data": {
      "text/plain": [
       "Text(0.5, 1.0, 'Loan Grade Distribution')"
      ]
     },
     "execution_count": 7,
     "metadata": {},
     "output_type": "execute_result"
    },
    {
     "data": {
      "image/png": "[encoded data removed]",
      "text/plain": [
       "<Figure size 640x480 with 1 Axes>"
      ]
     },
     "metadata": {},
     "output_type": "display_data"
    }
   ],
   "source": [
    "ax = sns.countplot(data=loan_df, x='grade', order=sorted(loan_df.grade.unique()))\n",
    "ax.set_title('Loan Grade Distribution')"
   ]
  },
  {
   "cell_type": "markdown",
   "id": "5a1fa3f7-1182-4605-952e-d78d9ef9fdb6",
   "metadata": {},
   "source": [
    "#### Loan Term\n",
    "How many different loan terms?\n",
    "\n",
    "- Plot a bar chart for term. The x axis is the loan_term_year and the y axis is the count of loans. The plot should have x and y axis labels and a proper title.\n",
    "- Briefly discuss the results"
   ]
  },
  {
   "cell_type": "code",
   "execution_count": 8,
   "id": "6fb1b181-75be-419c-9a7d-c5e41cdb6821",
   "metadata": {
    "tags": []
   },
   "outputs": [
    {
     "data": {
      "text/plain": [
       "loan_term_year\n",
       "3    14852\n",
       "5     5056\n",
       "Name: count, dtype: int64"
      ]
     },
     "execution_count": 8,
     "metadata": {},
     "output_type": "execute_result"
    }
   ],
   "source": [
    "loan_df.loan_term_year.value_counts()"
   ]
  },
  {
   "cell_type": "code",
   "execution_count": 9,
   "id": "7ef71fe7-d831-4e92-a8b8-8355bb57f0f4",
   "metadata": {
    "tags": []
   },
   "outputs": [
    {
     "data": {
      "text/plain": [
       "Text(0.5, 1.0, 'Loan Term Distribution')"
      ]
     },
     "execution_count": 9,
     "metadata": {},
     "output_type": "execute_result"
    },
    {
     "data": {
      "image/png": "[encoded data removed]",
      "text/plain": [
       "<Figure size 640x480 with 1 Axes>"
      ]
     },
     "metadata": {},
     "output_type": "display_data"
    }
   ],
   "source": [
    "ax = sns.countplot(data=loan_df, x='loan_term_year')\n",
    "ax.set_title('Loan Term Distribution')"
   ]
  },
  {
   "cell_type": "markdown",
   "id": "dad1863e-b475-40b8-8643-3ee9d0f78de8",
   "metadata": {},
   "source": [
    "#### Interest Rate\n",
    "\n",
    "Display distribution of interest rate.\n",
    "\n",
    "- Plot a histogram on int_rate. The plot should have x and y axis labels and a proper title.\n",
    "- Briefly discuss the results"
   ]
  },
  {
   "cell_type": "code",
   "execution_count": 10,
   "id": "5c92358c-552a-433f-b404-2fe9bf38c6aa",
   "metadata": {
    "tags": []
   },
   "outputs": [
    {
     "data": {
      "text/plain": [
       "Text(0.5, 1.0, 'Interest Rate Distribution')"
      ]
     },
     "execution_count": 10,
     "metadata": {},
     "output_type": "execute_result"
    },
    {
     "data": {
      "image/png": "[encoded data removed]",
      "text/plain": [
       "<Figure size 640x480 with 1 Axes>"
      ]
     },
     "metadata": {},
     "output_type": "display_data"
    }
   ],
   "source": [
    "ax = loan_df.int_rate.hist()\n",
    "ax.set_title('Interest Rate Distribution')"
   ]
  },
  {
   "cell_type": "markdown",
   "id": "181d941d-04f1-4f2c-8857-0350eaa45d2c",
   "metadata": {},
   "source": [
    "#### Loan Amount\n",
    "\n",
    "Display distribution of loan amount.\n",
    "\n",
    "- Plot a histogram on loan_amnt. The plot should have x and y axis labels and a proper title.\n",
    "- Briefly discuss the results"
   ]
  },
  {
   "cell_type": "code",
   "execution_count": 11,
   "id": "72b00b3b-ed51-498b-85fa-cf2095ca7ad8",
   "metadata": {
    "tags": []
   },
   "outputs": [
    {
     "data": {
      "text/plain": [
       "Text(0.5, 1.0, 'Loan Amount Distribution')"
      ]
     },
     "execution_count": 11,
     "metadata": {},
     "output_type": "execute_result"
    },
    {
     "data": {
      "image/png": "[encoded data removed]",
      "text/plain": [
       "<Figure size 640x480 with 1 Axes>"
      ]
     },
     "metadata": {},
     "output_type": "display_data"
    }
   ],
   "source": [
    "ax = loan_df.loan_amnt.hist()\n",
    "ax.set_title('Loan Amount Distribution')"
   ]
  },
  {
   "cell_type": "markdown",
   "id": "444f056c-3509-4e10-982c-e32e473056af",
   "metadata": {},
   "source": [
    "#### Loan Grade and Interest Rate\n",
    "\n",
    "Explore the relationship between loan grade and interest rate.\n",
    "\n",
    "- Get average interest rate for each loan grade.\n",
    " - Group by grade column.\n",
    " - Apply aggregate function mean on int_rate column.\n",
    "- Visualize the average interest rate of each loan grade with a bar chart. Make sure the plot has proper labels and title.\n",
    "- Briefly discuss the relationship.\n",
    "\n",
    "**Hint**: You can directly plot a bar chart on an aggregated groupby object. ie. `ax = df.groupby(...).agg(...).plot.bar()`"
   ]
  },
  {
   "cell_type": "code",
   "execution_count": 12,
   "id": "6b3894bc-b38a-4539-9efa-848581a2933a",
   "metadata": {
    "tags": []
   },
   "outputs": [
    {
     "data": {
      "text/html": [
       "<div>\n",
       "<style scoped>\n",
       "    .dataframe tbody tr th:only-of-type {\n",
       "        vertical-align: middle;\n",
       "    }\n",
       "\n",
       "    .dataframe tbody tr th {\n",
       "        vertical-align: top;\n",
       "    }\n",
       "\n",
       "    .dataframe thead th {\n",
       "        text-align: right;\n",
       "    }\n",
       "</style>\n",
       "<table border=\"1\" class=\"dataframe\">\n",
       "  <thead>\n",
       "    <tr style=\"text-align: right;\">\n",
       "      <th></th>\n",
       "      <th>int_rate</th>\n",
       "    </tr>\n",
       "    <tr>\n",
       "      <th>grade</th>\n",
       "      <th></th>\n",
       "    </tr>\n",
       "  </thead>\n",
       "  <tbody>\n",
       "    <tr>\n",
       "      <th>A</th>\n",
       "      <td>7.350978</td>\n",
       "    </tr>\n",
       "    <tr>\n",
       "      <th>B</th>\n",
       "      <td>11.033439</td>\n",
       "    </tr>\n",
       "    <tr>\n",
       "      <th>C</th>\n",
       "      <td>13.555241</td>\n",
       "    </tr>\n",
       "    <tr>\n",
       "      <th>D</th>\n",
       "      <td>15.707576</td>\n",
       "    </tr>\n",
       "    <tr>\n",
       "      <th>E</th>\n",
       "      <td>17.653752</td>\n",
       "    </tr>\n",
       "    <tr>\n",
       "      <th>F</th>\n",
       "      <td>19.729463</td>\n",
       "    </tr>\n",
       "    <tr>\n",
       "      <th>G</th>\n",
       "      <td>21.346981</td>\n",
       "    </tr>\n",
       "  </tbody>\n",
       "</table>\n",
       "</div>"
      ],
      "text/plain": [
       "        int_rate\n",
       "grade           \n",
       "A       7.350978\n",
       "B      11.033439\n",
       "C      13.555241\n",
       "D      15.707576\n",
       "E      17.653752\n",
       "F      19.729463\n",
       "G      21.346981"
      ]
     },
     "execution_count": 12,
     "metadata": {},
     "output_type": "execute_result"
    }
   ],
   "source": [
    "loan_df.groupby(by='grade').agg({'int_rate':'mean'})"
   ]
  },
  {
   "cell_type": "code",
   "execution_count": 13,
   "id": "d65c765f-c4d1-4f56-aaea-cc0776c6458b",
   "metadata": {
    "tags": []
   },
   "outputs": [
    {
     "data": {
      "text/plain": [
       "Text(0.5, 1.0, 'Loan Grade and Interest Rate')"
      ]
     },
     "execution_count": 13,
     "metadata": {},
     "output_type": "execute_result"
    },
    {
     "data": {
      "image/png": "[encoded data removed]",
      "text/plain": [
       "<Figure size 640x480 with 1 Axes>"
      ]
     },
     "metadata": {},
     "output_type": "display_data"
    }
   ],
   "source": [
    "ax = loan_df.groupby(by='grade').agg({'int_rate':'mean'}).plot.bar()\n",
    "ax.set_title('Loan Grade and Interest Rate')"
   ]
  },
  {
   "cell_type": "markdown",
   "id": "a7ec3a30-8a62-4a8f-a8aa-1b289b55cec9",
   "metadata": {},
   "source": [
    "#### Loan Term and Interest Rate\n",
    "\n",
    "Explore the relationship between loan term and interest rate.\n",
    "\n",
    "- Get average interest rate for each loan term.\n",
    " - Group by term column.\n",
    " - Apply aggregate function mean on int_rate column.\n",
    "- Visualize the average interest rate of each term with a bar chart. Make sure the plot has proper labels and title.\n",
    "- Briefly discuss the relationship.\n",
    "\n",
    "**Hint**: You can directly plot a bar chart on an aggregated groupby object. ie. `ax = df.groupby(...).agg(...).plot.bar()`"
   ]
  },
  {
   "cell_type": "code",
   "execution_count": 14,
   "id": "c8e66ffd-1704-46c4-9052-42922b03e2e1",
   "metadata": {
    "tags": []
   },
   "outputs": [
    {
     "data": {
      "text/html": [
       "<div>\n",
       "<style scoped>\n",
       "    .dataframe tbody tr th:only-of-type {\n",
       "        vertical-align: middle;\n",
       "    }\n",
       "\n",
       "    .dataframe tbody tr th {\n",
       "        vertical-align: top;\n",
       "    }\n",
       "\n",
       "    .dataframe thead th {\n",
       "        text-align: right;\n",
       "    }\n",
       "</style>\n",
       "<table border=\"1\" class=\"dataframe\">\n",
       "  <thead>\n",
       "    <tr style=\"text-align: right;\">\n",
       "      <th></th>\n",
       "      <th>int_rate</th>\n",
       "    </tr>\n",
       "    <tr>\n",
       "      <th>loan_term_year</th>\n",
       "      <th></th>\n",
       "    </tr>\n",
       "  </thead>\n",
       "  <tbody>\n",
       "    <tr>\n",
       "      <th>3</th>\n",
       "      <td>11.121125</td>\n",
       "    </tr>\n",
       "    <tr>\n",
       "      <th>5</th>\n",
       "      <td>14.934955</td>\n",
       "    </tr>\n",
       "  </tbody>\n",
       "</table>\n",
       "</div>"
      ],
      "text/plain": [
       "                 int_rate\n",
       "loan_term_year           \n",
       "3               11.121125\n",
       "5               14.934955"
      ]
     },
     "execution_count": 14,
     "metadata": {},
     "output_type": "execute_result"
    }
   ],
   "source": [
    "loan_df.groupby(by='loan_term_year').agg({'int_rate':'mean'})"
   ]
  },
  {
   "cell_type": "code",
   "execution_count": 15,
   "id": "0f4009c3-7517-4572-a9ae-9a7c43074174",
   "metadata": {
    "tags": []
   },
   "outputs": [
    {
     "data": {
      "text/plain": [
       "Text(0.5, 1.0, 'Loan Term and Interest Rate')"
      ]
     },
     "execution_count": 15,
     "metadata": {},
     "output_type": "execute_result"
    },
    {
     "data": {
      "image/png": "[encoded data removed]",
      "text/plain": [
       "<Figure size 640x480 with 1 Axes>"
      ]
     },
     "metadata": {},
     "output_type": "display_data"
    }
   ],
   "source": [
    "ax = loan_df.groupby(by='loan_term_year').agg({'int_rate':'mean'}).plot.bar()\n",
    "ax.set_title('Loan Term and Interest Rate')"
   ]
  },
  {
   "cell_type": "markdown",
   "id": "7a5d84a9-ee52-4c50-a460-9f6d56899374",
   "metadata": {
    "tags": []
   },
   "source": [
    "#### Payoff Rate\n",
    "\n",
    "Find overal payoff rate."
   ]
  },
  {
   "cell_type": "code",
   "execution_count": 16,
   "id": "2ac5abe6-c9ef-415a-b3a1-7094ff866a93",
   "metadata": {
    "tags": []
   },
   "outputs": [
    {
     "data": {
      "text/plain": [
       "0.8521699819168174"
      ]
     },
     "execution_count": 16,
     "metadata": {},
     "output_type": "execute_result"
    }
   ],
   "source": [
    "loan_df.repaid.mean()"
   ]
  },
  {
   "cell_type": "markdown",
   "id": "8451a9df-e6ea-4023-9ce0-0924494ecbd8",
   "metadata": {},
   "source": [
    "#### Payoff Rate by Grade\n",
    "\n",
    "Explore the payoff rate of each loan grade.\n",
    "\n",
    "- Get average repaid for each loan grade.\n",
    " - Group by grade column.\n",
    " - Apply aggregate function mean on repaid column.\n",
    "- Visualize the average payoff rate of each loan grade with a bar chart. Make sure the plot has proper labels and title.\n",
    "- Briefly discuss the relationship.\n",
    "\n",
    "**Hint**: You can directly plot a bar chart on an aggregated groupby object. ie. `ax = df.groupby(...).agg(...).plot.bar()`"
   ]
  },
  {
   "cell_type": "code",
   "execution_count": 17,
   "id": "e253c609-a385-4708-a852-af3625539204",
   "metadata": {
    "tags": []
   },
   "outputs": [
    {
     "data": {
      "text/html": [
       "<div>\n",
       "<style scoped>\n",
       "    .dataframe tbody tr th:only-of-type {\n",
       "        vertical-align: middle;\n",
       "    }\n",
       "\n",
       "    .dataframe tbody tr th {\n",
       "        vertical-align: top;\n",
       "    }\n",
       "\n",
       "    .dataframe thead th {\n",
       "        text-align: right;\n",
       "    }\n",
       "</style>\n",
       "<table border=\"1\" class=\"dataframe\">\n",
       "  <thead>\n",
       "    <tr style=\"text-align: right;\">\n",
       "      <th></th>\n",
       "      <th>repaid</th>\n",
       "    </tr>\n",
       "    <tr>\n",
       "      <th>grade</th>\n",
       "      <th></th>\n",
       "    </tr>\n",
       "  </thead>\n",
       "  <tbody>\n",
       "    <tr>\n",
       "      <th>A</th>\n",
       "      <td>0.937641</td>\n",
       "    </tr>\n",
       "    <tr>\n",
       "      <th>B</th>\n",
       "      <td>0.871558</td>\n",
       "    </tr>\n",
       "    <tr>\n",
       "      <th>C</th>\n",
       "      <td>0.835576</td>\n",
       "    </tr>\n",
       "    <tr>\n",
       "      <th>D</th>\n",
       "      <td>0.789301</td>\n",
       "    </tr>\n",
       "    <tr>\n",
       "      <th>E</th>\n",
       "      <td>0.736402</td>\n",
       "    </tr>\n",
       "    <tr>\n",
       "      <th>F</th>\n",
       "      <td>0.677778</td>\n",
       "    </tr>\n",
       "    <tr>\n",
       "      <th>G</th>\n",
       "      <td>0.641509</td>\n",
       "    </tr>\n",
       "  </tbody>\n",
       "</table>\n",
       "</div>"
      ],
      "text/plain": [
       "         repaid\n",
       "grade          \n",
       "A      0.937641\n",
       "B      0.871558\n",
       "C      0.835576\n",
       "D      0.789301\n",
       "E      0.736402\n",
       "F      0.677778\n",
       "G      0.641509"
      ]
     },
     "execution_count": 17,
     "metadata": {},
     "output_type": "execute_result"
    }
   ],
   "source": [
    "loan_df.groupby(by='grade').agg({'repaid':'mean'})"
   ]
  },
  {
   "cell_type": "code",
   "execution_count": 18,
   "id": "949b6323-8d8f-4671-a831-5253ac53b07f",
   "metadata": {
    "tags": []
   },
   "outputs": [
    {
     "data": {
      "text/plain": [
       "Text(0.5, 1.0, 'Payoff Rate by Loan Grade')"
      ]
     },
     "execution_count": 18,
     "metadata": {},
     "output_type": "execute_result"
    },
    {
     "data": {
      "image/png": "[encoded data removed]",
      "text/plain": [
       "<Figure size 640x480 with 1 Axes>"
      ]
     },
     "metadata": {},
     "output_type": "display_data"
    }
   ],
   "source": [
    "ax = loan_df.groupby(by='grade').agg({'repaid':'mean'}).plot.bar()\n",
    "ax.set_title('Payoff Rate by Loan Grade')"
   ]
  },
  {
   "cell_type": "markdown",
   "id": "e7334b02-ef47-4c33-b026-eaae6bd85bef",
   "metadata": {},
   "source": [
    "#### Interest Rate by Grade"
   ]
  },
  {
   "cell_type": "code",
   "execution_count": 19,
   "id": "0a241804-55f0-4bc3-8cf4-f57a5b9c658d",
   "metadata": {
    "tags": []
   },
   "outputs": [
    {
     "data": {
      "text/html": [
       "<div>\n",
       "<style scoped>\n",
       "    .dataframe tbody tr th:only-of-type {\n",
       "        vertical-align: middle;\n",
       "    }\n",
       "\n",
       "    .dataframe tbody tr th {\n",
       "        vertical-align: top;\n",
       "    }\n",
       "\n",
       "    .dataframe thead th {\n",
       "        text-align: right;\n",
       "    }\n",
       "</style>\n",
       "<table border=\"1\" class=\"dataframe\">\n",
       "  <thead>\n",
       "    <tr style=\"text-align: right;\">\n",
       "      <th></th>\n",
       "      <th>int_rate</th>\n",
       "    </tr>\n",
       "    <tr>\n",
       "      <th>grade</th>\n",
       "      <th></th>\n",
       "    </tr>\n",
       "  </thead>\n",
       "  <tbody>\n",
       "    <tr>\n",
       "      <th>A</th>\n",
       "      <td>7.350978</td>\n",
       "    </tr>\n",
       "    <tr>\n",
       "      <th>B</th>\n",
       "      <td>11.033439</td>\n",
       "    </tr>\n",
       "    <tr>\n",
       "      <th>C</th>\n",
       "      <td>13.555241</td>\n",
       "    </tr>\n",
       "    <tr>\n",
       "      <th>D</th>\n",
       "      <td>15.707576</td>\n",
       "    </tr>\n",
       "    <tr>\n",
       "      <th>E</th>\n",
       "      <td>17.653752</td>\n",
       "    </tr>\n",
       "    <tr>\n",
       "      <th>F</th>\n",
       "      <td>19.729463</td>\n",
       "    </tr>\n",
       "    <tr>\n",
       "      <th>G</th>\n",
       "      <td>21.346981</td>\n",
       "    </tr>\n",
       "  </tbody>\n",
       "</table>\n",
       "</div>"
      ],
      "text/plain": [
       "        int_rate\n",
       "grade           \n",
       "A       7.350978\n",
       "B      11.033439\n",
       "C      13.555241\n",
       "D      15.707576\n",
       "E      17.653752\n",
       "F      19.729463\n",
       "G      21.346981"
      ]
     },
     "execution_count": 19,
     "metadata": {},
     "output_type": "execute_result"
    }
   ],
   "source": [
    "loan_df.groupby(by='grade').agg({'int_rate':'mean'})"
   ]
  },
  {
   "cell_type": "code",
   "execution_count": 20,
   "id": "e0dcc8fa-a70e-4693-a9f6-4200873607fc",
   "metadata": {
    "tags": []
   },
   "outputs": [
    {
     "data": {
      "text/plain": [
       "Text(0.5, 1.0, 'Interest Rate by Loan Grade')"
      ]
     },
     "execution_count": 20,
     "metadata": {},
     "output_type": "execute_result"
    },
    {
     "data": {
      "image/png": "[encoded data removed]",
      "text/plain": [
       "<Figure size 640x480 with 1 Axes>"
      ]
     },
     "metadata": {},
     "output_type": "display_data"
    }
   ],
   "source": [
    "ax = loan_df.groupby(by='grade').agg({'int_rate':'mean'}).plot.bar()\n",
    "ax.set_title('Interest Rate by Loan Grade')"
   ]
  },
  {
   "cell_type": "markdown",
   "id": "411e152c-c5a4-41d2-bf47-7a4a546bbe73",
   "metadata": {},
   "source": [
    "#### Payoff Rate by Loan Term\n",
    "\n",
    "Explore the payoff rate of each loan term.\n",
    "\n",
    "- Get average repaid for each loan term.\n",
    " - Group by loan_term_year column.\n",
    " - Apply aggregate function mean on repaid column.\n",
    "- Visualize the average payoff rate of each loan grade with a bar chart. Make sure the plot has proper labels and title.\n",
    "- Briefly discuss the relationship.\n",
    "\n",
    "**Hint**: You can directly plot a bar chart on an aggregated groupby object. ie. `ax = df.groupby(...).agg(...).plot.bar()`"
   ]
  },
  {
   "cell_type": "code",
   "execution_count": 21,
   "id": "be3b6232-5437-4ded-88c3-79f73a868c91",
   "metadata": {
    "tags": []
   },
   "outputs": [
    {
     "data": {
      "text/html": [
       "<div>\n",
       "<style scoped>\n",
       "    .dataframe tbody tr th:only-of-type {\n",
       "        vertical-align: middle;\n",
       "    }\n",
       "\n",
       "    .dataframe tbody tr th {\n",
       "        vertical-align: top;\n",
       "    }\n",
       "\n",
       "    .dataframe thead th {\n",
       "        text-align: right;\n",
       "    }\n",
       "</style>\n",
       "<table border=\"1\" class=\"dataframe\">\n",
       "  <thead>\n",
       "    <tr style=\"text-align: right;\">\n",
       "      <th></th>\n",
       "      <th>repaid</th>\n",
       "    </tr>\n",
       "    <tr>\n",
       "      <th>loan_term_year</th>\n",
       "      <th></th>\n",
       "    </tr>\n",
       "  </thead>\n",
       "  <tbody>\n",
       "    <tr>\n",
       "      <th>3</th>\n",
       "      <td>0.883652</td>\n",
       "    </tr>\n",
       "    <tr>\n",
       "      <th>5</th>\n",
       "      <td>0.759691</td>\n",
       "    </tr>\n",
       "  </tbody>\n",
       "</table>\n",
       "</div>"
      ],
      "text/plain": [
       "                  repaid\n",
       "loan_term_year          \n",
       "3               0.883652\n",
       "5               0.759691"
      ]
     },
     "execution_count": 21,
     "metadata": {},
     "output_type": "execute_result"
    }
   ],
   "source": [
    "loan_df.groupby(by='loan_term_year').agg({'repaid':'mean'})"
   ]
  },
  {
   "cell_type": "code",
   "execution_count": 22,
   "id": "40c478d8-0135-4ece-93ab-7da6ba9b0e3b",
   "metadata": {
    "tags": []
   },
   "outputs": [
    {
     "data": {
      "text/plain": [
       "Text(0.5, 1.0, 'Payoff Rate by Loan Term')"
      ]
     },
     "execution_count": 22,
     "metadata": {},
     "output_type": "execute_result"
    },
    {
     "data": {
      "image/png": "[encoded data removed]",
      "text/plain": [
       "<Figure size 640x480 with 1 Axes>"
      ]
     },
     "metadata": {},
     "output_type": "display_data"
    }
   ],
   "source": [
    "ax = loan_df.groupby(by='loan_term_year').agg({'repaid':'mean'}).plot.bar()\n",
    "ax.set_title('Payoff Rate by Loan Term')"
   ]
  },
  {
   "cell_type": "markdown",
   "id": "473b8740-93db-41c3-ac52-333ec575b3a5",
   "metadata": {},
   "source": [
    "#### Borrowers Annual Income Distribution\n",
    "\n",
    "- Plot a histogram of all borrower's annual income.\n",
    "- Plot another histogram of annual income that is less than $250,000.\n",
    "- Compare the plots and discuss briefly.\n",
    "\n",
    "**Hint**: You may use hist() function on annual_inc column to plot histogram."
   ]
  },
  {
   "cell_type": "code",
   "execution_count": 23,
   "id": "ec76f61c-4914-4fa3-b95b-3d720db26efb",
   "metadata": {
    "tags": []
   },
   "outputs": [
    {
     "data": {
      "text/plain": [
       "Text(0.5, 1.0, 'Annual Income Distribution')"
      ]
     },
     "execution_count": 23,
     "metadata": {},
     "output_type": "execute_result"
    },
    {
     "data": {
      "image/png": "[encoded data removed]",
      "text/plain": [
       "<Figure size 640x480 with 1 Axes>"
      ]
     },
     "metadata": {},
     "output_type": "display_data"
    }
   ],
   "source": [
    "ax = loan_df.annual_inc.hist()\n",
    "ax.set_title('Annual Income Distribution')"
   ]
  },
  {
   "cell_type": "code",
   "execution_count": 24,
   "id": "50e8295b-8574-43a5-9937-43c1aa215459",
   "metadata": {
    "tags": []
   },
   "outputs": [
    {
     "data": {
      "text/plain": [
       "Text(0.5, 1.0, 'Annual Income Distribution Below $250,000')"
      ]
     },
     "execution_count": 24,
     "metadata": {},
     "output_type": "execute_result"
    },
    {
     "data": {
      "image/png": "[encoded data removed]",
      "text/plain": [
       "<Figure size 640x480 with 1 Axes>"
      ]
     },
     "metadata": {},
     "output_type": "display_data"
    }
   ],
   "source": [
    "ax = loan_df[loan_df.annual_inc<250000].annual_inc.hist()\n",
    "ax.set_title('Annual Income Distribution Below $250,000')"
   ]
  },
  {
   "cell_type": "markdown",
   "id": "e5cb693d-4a72-4578-8588-63e136797a31",
   "metadata": {},
   "source": [
    "#### Loan Purpose\n",
    "How many different loan purpose are there in the dataset? What's the distribution?\n",
    "\n",
    "- Plot a horizontal bar chart for purpose. The y axis is the loan purpose and the y axis is the count of loans. The plot should have x and y axis labels and a proper title.\n",
    "- Briefly discuss the results.\n",
    "\n",
    "Hint: You may use seaborn countplot. To sort the loan purpose by number of loans you may set `order=loan_df.purpose.value_counts().index` in the countplot."
   ]
  },
  {
   "cell_type": "code",
   "execution_count": 25,
   "id": "a7d8ce9b-b4c3-4746-bf0a-66fbee8db7ac",
   "metadata": {
    "tags": []
   },
   "outputs": [
    {
     "data": {
      "text/plain": [
       "Text(0.5, 1.0, 'Loan Grade Distribution')"
      ]
     },
     "execution_count": 25,
     "metadata": {},
     "output_type": "execute_result"
    },
    {
     "data": {
      "image/png": "[encoded data removed]",
      "text/plain": [
       "<Figure size 640x480 with 1 Axes>"
      ]
     },
     "metadata": {},
     "output_type": "display_data"
    }
   ],
   "source": [
    "ax = sns.countplot(data=loan_df, y='purpose', order=loan_df.purpose.value_counts().index)\n",
    "ax.set_title('Loan Grade Distribution')"
   ]
  },
  {
   "cell_type": "markdown",
   "id": "00080a00-3833-4d81-b4fc-319e971fe6dd",
   "metadata": {},
   "source": [
    "#### Payoff Rate by Purpose\n",
    "\n",
    "Explore the payoff rate of each loan purpose.\n",
    "\n",
    "- Get average repaid for each loan purpose.\n",
    "- Sort by average payoff rate.\n"
   ]
  },
  {
   "cell_type": "code",
   "execution_count": 26,
   "id": "2436bcc8-6957-48e0-b6b8-d3e7510b71fb",
   "metadata": {
    "tags": []
   },
   "outputs": [
    {
     "data": {
      "text/html": [
       "<div>\n",
       "<style scoped>\n",
       "    .dataframe tbody tr th:only-of-type {\n",
       "        vertical-align: middle;\n",
       "    }\n",
       "\n",
       "    .dataframe tbody tr th {\n",
       "        vertical-align: top;\n",
       "    }\n",
       "\n",
       "    .dataframe thead th {\n",
       "        text-align: right;\n",
       "    }\n",
       "</style>\n",
       "<table border=\"1\" class=\"dataframe\">\n",
       "  <thead>\n",
       "    <tr style=\"text-align: right;\">\n",
       "      <th></th>\n",
       "      <th>repaid</th>\n",
       "    </tr>\n",
       "    <tr>\n",
       "      <th>purpose</th>\n",
       "      <th></th>\n",
       "    </tr>\n",
       "  </thead>\n",
       "  <tbody>\n",
       "    <tr>\n",
       "      <th>small_business</th>\n",
       "      <td>0.728177</td>\n",
       "    </tr>\n",
       "    <tr>\n",
       "      <th>educational</th>\n",
       "      <td>0.801242</td>\n",
       "    </tr>\n",
       "    <tr>\n",
       "      <th>house</th>\n",
       "      <td>0.823864</td>\n",
       "    </tr>\n",
       "    <tr>\n",
       "      <th>moving</th>\n",
       "      <td>0.829653</td>\n",
       "    </tr>\n",
       "    <tr>\n",
       "      <th>other</th>\n",
       "      <td>0.843689</td>\n",
       "    </tr>\n",
       "    <tr>\n",
       "      <th>debt_consolidation</th>\n",
       "      <td>0.845670</td>\n",
       "    </tr>\n",
       "    <tr>\n",
       "      <th>medical</th>\n",
       "      <td>0.854286</td>\n",
       "    </tr>\n",
       "    <tr>\n",
       "      <th>vacation</th>\n",
       "      <td>0.859296</td>\n",
       "    </tr>\n",
       "    <tr>\n",
       "      <th>renewable_energy</th>\n",
       "      <td>0.862745</td>\n",
       "    </tr>\n",
       "    <tr>\n",
       "      <th>home_improvement</th>\n",
       "      <td>0.875188</td>\n",
       "    </tr>\n",
       "    <tr>\n",
       "      <th>credit_card</th>\n",
       "      <td>0.885757</td>\n",
       "    </tr>\n",
       "    <tr>\n",
       "      <th>major_purchase</th>\n",
       "      <td>0.887405</td>\n",
       "    </tr>\n",
       "    <tr>\n",
       "      <th>car</th>\n",
       "      <td>0.892285</td>\n",
       "    </tr>\n",
       "    <tr>\n",
       "      <th>wedding</th>\n",
       "      <td>0.894249</td>\n",
       "    </tr>\n",
       "  </tbody>\n",
       "</table>\n",
       "</div>"
      ],
      "text/plain": [
       "                      repaid\n",
       "purpose                     \n",
       "small_business      0.728177\n",
       "educational         0.801242\n",
       "house               0.823864\n",
       "moving              0.829653\n",
       "other               0.843689\n",
       "debt_consolidation  0.845670\n",
       "medical             0.854286\n",
       "vacation            0.859296\n",
       "renewable_energy    0.862745\n",
       "home_improvement    0.875188\n",
       "credit_card         0.885757\n",
       "major_purchase      0.887405\n",
       "car                 0.892285\n",
       "wedding             0.894249"
      ]
     },
     "execution_count": 26,
     "metadata": {},
     "output_type": "execute_result"
    }
   ],
   "source": [
    "loan_df.groupby(by='purpose').agg({'repaid':'mean'}).sort_values(by='repaid')"
   ]
  },
  {
   "cell_type": "code",
   "execution_count": 27,
   "id": "9bc9debf-d856-4eec-b5ca-b8bffc206e7d",
   "metadata": {
    "tags": []
   },
   "outputs": [
    {
     "data": {
      "text/plain": [
       "Text(0.5, 1.0, 'Payoff Rate by Loan Purpose')"
      ]
     },
     "execution_count": 27,
     "metadata": {},
     "output_type": "execute_result"
    },
    {
     "data": {
      "image/png": "[encoded data removed]",
      "text/plain": [
       "<Figure size 640x480 with 1 Axes>"
      ]
     },
     "metadata": {},
     "output_type": "display_data"
    }
   ],
   "source": [
    "ax = loan_df.groupby(by='purpose').agg({'repaid':'mean'}).sort_values(by='repaid').plot.barh()\n",
    "ax.set_title('Payoff Rate by Loan Purpose')"
   ]
  },
  {
   "cell_type": "markdown",
   "id": "0938b529-79fb-4c60-9f93-2e2dd7b9e04c",
   "metadata": {},
   "source": [
    "#### total_acc"
   ]
  },
  {
   "cell_type": "code",
   "execution_count": 28,
   "id": "5a292fb5-d945-4fa0-acb0-6934ba32baad",
   "metadata": {
    "tags": []
   },
   "outputs": [
    {
     "data": {
      "text/plain": [
       "<Axes: >"
      ]
     },
     "execution_count": 28,
     "metadata": {},
     "output_type": "execute_result"
    },
    {
     "data": {
      "image/png": "[encoded data removed]",
      "text/plain": [
       "<Figure size 640x480 with 1 Axes>"
      ]
     },
     "metadata": {},
     "output_type": "display_data"
    }
   ],
   "source": [
    "loan_df.total_acc.hist()"
   ]
  },
  {
   "cell_type": "markdown",
   "id": "61ac69a7-8d6e-44d6-8390-5928116094fb",
   "metadata": {
    "tags": []
   },
   "source": [
    "## Requirment 3. Feature Selection for Logistic Regression\n",
    "- **Identify and select features** for training a logistic regression model.\n",
    "- **Exclude features** that are only available after loan origination.\n"
   ]
  },
  {
   "cell_type": "code",
   "execution_count": 29,
   "id": "11a4da19-56fe-4cdc-b6b9-f47e9dacf47a",
   "metadata": {
    "tags": []
   },
   "outputs": [
    {
     "data": {
      "text/html": [
       "<div>\n",
       "<style scoped>\n",
       "    .dataframe tbody tr th:only-of-type {\n",
       "        vertical-align: middle;\n",
       "    }\n",
       "\n",
       "    .dataframe tbody tr th {\n",
       "        vertical-align: top;\n",
       "    }\n",
       "\n",
       "    .dataframe thead th {\n",
       "        text-align: right;\n",
       "    }\n",
       "</style>\n",
       "<table border=\"1\" class=\"dataframe\">\n",
       "  <thead>\n",
       "    <tr style=\"text-align: right;\">\n",
       "      <th></th>\n",
       "      <th>loan_amnt</th>\n",
       "      <th>loan_term_year</th>\n",
       "      <th>int_rate</th>\n",
       "      <th>annual_inc</th>\n",
       "      <th>dti</th>\n",
       "      <th>total_acc</th>\n",
       "      <th>total_pymnt</th>\n",
       "      <th>recoveries</th>\n",
       "      <th>collection_recovery_fee</th>\n",
       "      <th>repaid</th>\n",
       "      <th>annual_return</th>\n",
       "    </tr>\n",
       "  </thead>\n",
       "  <tbody>\n",
       "    <tr>\n",
       "      <th>count</th>\n",
       "      <td>19908.000000</td>\n",
       "      <td>19908.000000</td>\n",
       "      <td>19908.000000</td>\n",
       "      <td>1.990800e+04</td>\n",
       "      <td>19908.000000</td>\n",
       "      <td>19908.000000</td>\n",
       "      <td>19908.000000</td>\n",
       "      <td>19908.000000</td>\n",
       "      <td>19908.000000</td>\n",
       "      <td>19908.00000</td>\n",
       "      <td>19908.000000</td>\n",
       "    </tr>\n",
       "    <tr>\n",
       "      <th>mean</th>\n",
       "      <td>11353.846444</td>\n",
       "      <td>3.507937</td>\n",
       "      <td>12.089717</td>\n",
       "      <td>7.107345e+04</td>\n",
       "      <td>13.008619</td>\n",
       "      <td>21.527627</td>\n",
       "      <td>12286.852391</td>\n",
       "      <td>94.722382</td>\n",
       "      <td>11.861625</td>\n",
       "      <td>0.85217</td>\n",
       "      <td>0.071528</td>\n",
       "    </tr>\n",
       "    <tr>\n",
       "      <th>std</th>\n",
       "      <td>7463.700492</td>\n",
       "      <td>0.870581</td>\n",
       "      <td>3.698287</td>\n",
       "      <td>6.980565e+04</td>\n",
       "      <td>6.663658</td>\n",
       "      <td>11.269006</td>\n",
       "      <td>9098.847567</td>\n",
       "      <td>666.434583</td>\n",
       "      <td>141.910324</td>\n",
       "      <td>0.35494</td>\n",
       "      <td>0.284831</td>\n",
       "    </tr>\n",
       "    <tr>\n",
       "      <th>min</th>\n",
       "      <td>500.000000</td>\n",
       "      <td>3.000000</td>\n",
       "      <td>5.420000</td>\n",
       "      <td>4.000000e+03</td>\n",
       "      <td>0.000000</td>\n",
       "      <td>2.000000</td>\n",
       "      <td>0.000000</td>\n",
       "      <td>0.000000</td>\n",
       "      <td>0.000000</td>\n",
       "      <td>0.00000</td>\n",
       "      <td>-1.000000</td>\n",
       "    </tr>\n",
       "    <tr>\n",
       "      <th>25%</th>\n",
       "      <td>5750.000000</td>\n",
       "      <td>3.000000</td>\n",
       "      <td>9.450000</td>\n",
       "      <td>4.200000e+04</td>\n",
       "      <td>7.840000</td>\n",
       "      <td>13.000000</td>\n",
       "      <td>5670.592545</td>\n",
       "      <td>0.000000</td>\n",
       "      <td>0.000000</td>\n",
       "      <td>1.00000</td>\n",
       "      <td>0.109808</td>\n",
       "    </tr>\n",
       "    <tr>\n",
       "      <th>50%</th>\n",
       "      <td>10000.000000</td>\n",
       "      <td>3.000000</td>\n",
       "      <td>11.860000</td>\n",
       "      <td>6.000000e+04</td>\n",
       "      <td>13.075000</td>\n",
       "      <td>20.000000</td>\n",
       "      <td>10042.735817</td>\n",
       "      <td>0.000000</td>\n",
       "      <td>0.000000</td>\n",
       "      <td>1.00000</td>\n",
       "      <td>0.155620</td>\n",
       "    </tr>\n",
       "    <tr>\n",
       "      <th>75%</th>\n",
       "      <td>15000.000000</td>\n",
       "      <td>5.000000</td>\n",
       "      <td>14.610000</td>\n",
       "      <td>8.500000e+04</td>\n",
       "      <td>18.200000</td>\n",
       "      <td>28.000000</td>\n",
       "      <td>16681.688450</td>\n",
       "      <td>0.000000</td>\n",
       "      <td>0.000000</td>\n",
       "      <td>1.00000</td>\n",
       "      <td>0.197859</td>\n",
       "    </tr>\n",
       "    <tr>\n",
       "      <th>max</th>\n",
       "      <td>35000.000000</td>\n",
       "      <td>5.000000</td>\n",
       "      <td>24.400000</td>\n",
       "      <td>6.000000e+06</td>\n",
       "      <td>29.990000</td>\n",
       "      <td>90.000000</td>\n",
       "      <td>58480.139915</td>\n",
       "      <td>29623.350000</td>\n",
       "      <td>6543.040000</td>\n",
       "      <td>1.00000</td>\n",
       "      <td>0.650391</td>\n",
       "    </tr>\n",
       "  </tbody>\n",
       "</table>\n",
       "</div>"
      ],
      "text/plain": [
       "          loan_amnt  loan_term_year      int_rate    annual_inc           dti  \\\n",
       "count  19908.000000    19908.000000  19908.000000  1.990800e+04  19908.000000   \n",
       "mean   11353.846444        3.507937     12.089717  7.107345e+04     13.008619   \n",
       "std     7463.700492        0.870581      3.698287  6.980565e+04      6.663658   \n",
       "min      500.000000        3.000000      5.420000  4.000000e+03      0.000000   \n",
       "25%     5750.000000        3.000000      9.450000  4.200000e+04      7.840000   \n",
       "50%    10000.000000        3.000000     11.860000  6.000000e+04     13.075000   \n",
       "75%    15000.000000        5.000000     14.610000  8.500000e+04     18.200000   \n",
       "max    35000.000000        5.000000     24.400000  6.000000e+06     29.990000   \n",
       "\n",
       "          total_acc   total_pymnt    recoveries  collection_recovery_fee  \\\n",
       "count  19908.000000  19908.000000  19908.000000             19908.000000   \n",
       "mean      21.527627  12286.852391     94.722382                11.861625   \n",
       "std       11.269006   9098.847567    666.434583               141.910324   \n",
       "min        2.000000      0.000000      0.000000                 0.000000   \n",
       "25%       13.000000   5670.592545      0.000000                 0.000000   \n",
       "50%       20.000000  10042.735817      0.000000                 0.000000   \n",
       "75%       28.000000  16681.688450      0.000000                 0.000000   \n",
       "max       90.000000  58480.139915  29623.350000              6543.040000   \n",
       "\n",
       "            repaid  annual_return  \n",
       "count  19908.00000   19908.000000  \n",
       "mean       0.85217       0.071528  \n",
       "std        0.35494       0.284831  \n",
       "min        0.00000      -1.000000  \n",
       "25%        1.00000       0.109808  \n",
       "50%        1.00000       0.155620  \n",
       "75%        1.00000       0.197859  \n",
       "max        1.00000       0.650391  "
      ]
     },
     "execution_count": 29,
     "metadata": {},
     "output_type": "execute_result"
    }
   ],
   "source": [
    "loan_df.describe()"
   ]
  },
  {
   "cell_type": "code",
   "execution_count": 30,
   "id": "0bdaa425-7a01-49ba-91fe-4dff0e3cb03c",
   "metadata": {
    "tags": []
   },
   "outputs": [
    {
     "data": {
      "text/plain": [
       "Index(['loan_amnt', 'loan_term_year', 'grade', 'int_rate', 'purpose',\n",
       "       'annual_inc', 'emp_length', 'verification_status', 'home_ownership',\n",
       "       'addr_state', 'dti', 'total_acc', 'total_pymnt', 'recoveries',\n",
       "       'collection_recovery_fee', 'loan_status', 'repaid', 'annual_return'],\n",
       "      dtype='object')"
      ]
     },
     "execution_count": 30,
     "metadata": {},
     "output_type": "execute_result"
    }
   ],
   "source": [
    "loan_df.columns"
   ]
  },
  {
   "cell_type": "code",
   "execution_count": 31,
   "id": "6732dc6a-04b7-4bbf-b4d6-5d79ffd7026a",
   "metadata": {
    "tags": []
   },
   "outputs": [],
   "source": [
    "training_features = ['loan_amnt', 'loan_term_year', 'int_rate', 'grade', 'emp_length',\n",
    "       'home_ownership', 'annual_inc', 'verification_status', 'purpose',\n",
    "       'addr_state', 'dti', 'total_acc']\n",
    "df = loan_df[training_features]\n",
    "#df.drop(columns=['delinq_2yrs', 'inq_last_6mths','mths_since_last_delinq', 'mths_since_last_record'], inplace=True)\n",
    "#df.drop(columns=['int_rate'], inplace=True)"
   ]
  },
  {
   "cell_type": "code",
   "execution_count": 32,
   "id": "5c003caf-416d-4d62-a8f2-f068ab3ec042",
   "metadata": {
    "tags": []
   },
   "outputs": [
    {
     "name": "stdout",
     "output_type": "stream",
     "text": [
      "<class 'pandas.core.frame.DataFrame'>\n",
      "RangeIndex: 19908 entries, 0 to 19907\n",
      "Data columns (total 12 columns):\n",
      " #   Column               Non-Null Count  Dtype  \n",
      "---  ------               --------------  -----  \n",
      " 0   loan_amnt            19908 non-null  int64  \n",
      " 1   loan_term_year       19908 non-null  int64  \n",
      " 2   int_rate             19908 non-null  float64\n",
      " 3   grade                19908 non-null  object \n",
      " 4   emp_length           19908 non-null  object \n",
      " 5   home_ownership       19908 non-null  object \n",
      " 6   annual_inc           19908 non-null  float64\n",
      " 7   verification_status  19908 non-null  object \n",
      " 8   purpose              19908 non-null  object \n",
      " 9   addr_state           19908 non-null  object \n",
      " 10  dti                  19908 non-null  float64\n",
      " 11  total_acc            19908 non-null  float64\n",
      "dtypes: float64(4), int64(2), object(6)\n",
      "memory usage: 1.8+ MB\n"
     ]
    }
   ],
   "source": [
    "df.info()"
   ]
  },
  {
   "cell_type": "markdown",
   "id": "db309325-80f0-430d-beb5-f43126fd2705",
   "metadata": {},
   "source": [
    "## Requiremnt 4. Encoding Categorical Features\n",
    "- **Encode categorical variables** appropriately using one-hot encoding or label encoding techniques.\n"
   ]
  },
  {
   "cell_type": "code",
   "execution_count": 33,
   "id": "3ea9fabc-3043-4141-a1ab-28b3dd5e4a9c",
   "metadata": {
    "tags": []
   },
   "outputs": [
    {
     "data": {
      "text/html": [
       "<div>\n",
       "<style scoped>\n",
       "    .dataframe tbody tr th:only-of-type {\n",
       "        vertical-align: middle;\n",
       "    }\n",
       "\n",
       "    .dataframe tbody tr th {\n",
       "        vertical-align: top;\n",
       "    }\n",
       "\n",
       "    .dataframe thead th {\n",
       "        text-align: right;\n",
       "    }\n",
       "</style>\n",
       "<table border=\"1\" class=\"dataframe\">\n",
       "  <thead>\n",
       "    <tr style=\"text-align: right;\">\n",
       "      <th></th>\n",
       "      <th>loan_amnt</th>\n",
       "      <th>loan_term_year</th>\n",
       "      <th>int_rate</th>\n",
       "      <th>annual_inc</th>\n",
       "      <th>dti</th>\n",
       "      <th>total_acc</th>\n",
       "      <th>grade_B</th>\n",
       "      <th>grade_C</th>\n",
       "      <th>grade_D</th>\n",
       "      <th>grade_E</th>\n",
       "      <th>grade_F</th>\n",
       "      <th>grade_G</th>\n",
       "      <th>emp_length_10+ years</th>\n",
       "      <th>emp_length_2 years</th>\n",
       "      <th>emp_length_3 years</th>\n",
       "      <th>emp_length_4 years</th>\n",
       "      <th>emp_length_5 years</th>\n",
       "      <th>emp_length_6 years</th>\n",
       "      <th>emp_length_7 years</th>\n",
       "      <th>emp_length_8 years</th>\n",
       "      <th>emp_length_9 years</th>\n",
       "      <th>emp_length_&lt; 1 year</th>\n",
       "      <th>home_ownership_NONE</th>\n",
       "      <th>home_ownership_OTHER</th>\n",
       "      <th>home_ownership_OWN</th>\n",
       "      <th>home_ownership_RENT</th>\n",
       "      <th>verification_status_Source Verified</th>\n",
       "      <th>verification_status_Verified</th>\n",
       "      <th>purpose_credit_card</th>\n",
       "      <th>purpose_debt_consolidation</th>\n",
       "      <th>purpose_educational</th>\n",
       "      <th>purpose_home_improvement</th>\n",
       "      <th>purpose_house</th>\n",
       "      <th>purpose_major_purchase</th>\n",
       "      <th>purpose_medical</th>\n",
       "      <th>purpose_moving</th>\n",
       "      <th>purpose_other</th>\n",
       "      <th>purpose_renewable_energy</th>\n",
       "      <th>purpose_small_business</th>\n",
       "      <th>purpose_vacation</th>\n",
       "      <th>purpose_wedding</th>\n",
       "      <th>addr_state_FL</th>\n",
       "      <th>addr_state_IL</th>\n",
       "      <th>addr_state_NJ</th>\n",
       "      <th>addr_state_NY</th>\n",
       "      <th>addr_state_TX</th>\n",
       "    </tr>\n",
       "  </thead>\n",
       "  <tbody>\n",
       "    <tr>\n",
       "      <th>0</th>\n",
       "      <td>2400</td>\n",
       "      <td>3</td>\n",
       "      <td>15.96</td>\n",
       "      <td>12252.0</td>\n",
       "      <td>8.72</td>\n",
       "      <td>10.0</td>\n",
       "      <td>False</td>\n",
       "      <td>True</td>\n",
       "      <td>False</td>\n",
       "      <td>False</td>\n",
       "      <td>False</td>\n",
       "      <td>False</td>\n",
       "      <td>True</td>\n",
       "      <td>False</td>\n",
       "      <td>False</td>\n",
       "      <td>False</td>\n",
       "      <td>False</td>\n",
       "      <td>False</td>\n",
       "      <td>False</td>\n",
       "      <td>False</td>\n",
       "      <td>False</td>\n",
       "      <td>False</td>\n",
       "      <td>False</td>\n",
       "      <td>False</td>\n",
       "      <td>False</td>\n",
       "      <td>True</td>\n",
       "      <td>False</td>\n",
       "      <td>False</td>\n",
       "      <td>False</td>\n",
       "      <td>False</td>\n",
       "      <td>False</td>\n",
       "      <td>False</td>\n",
       "      <td>False</td>\n",
       "      <td>False</td>\n",
       "      <td>False</td>\n",
       "      <td>False</td>\n",
       "      <td>False</td>\n",
       "      <td>False</td>\n",
       "      <td>True</td>\n",
       "      <td>False</td>\n",
       "      <td>False</td>\n",
       "      <td>False</td>\n",
       "      <td>True</td>\n",
       "      <td>False</td>\n",
       "      <td>False</td>\n",
       "      <td>False</td>\n",
       "    </tr>\n",
       "    <tr>\n",
       "      <th>1</th>\n",
       "      <td>10000</td>\n",
       "      <td>3</td>\n",
       "      <td>13.49</td>\n",
       "      <td>49200.0</td>\n",
       "      <td>20.00</td>\n",
       "      <td>37.0</td>\n",
       "      <td>False</td>\n",
       "      <td>True</td>\n",
       "      <td>False</td>\n",
       "      <td>False</td>\n",
       "      <td>False</td>\n",
       "      <td>False</td>\n",
       "      <td>True</td>\n",
       "      <td>False</td>\n",
       "      <td>False</td>\n",
       "      <td>False</td>\n",
       "      <td>False</td>\n",
       "      <td>False</td>\n",
       "      <td>False</td>\n",
       "      <td>False</td>\n",
       "      <td>False</td>\n",
       "      <td>False</td>\n",
       "      <td>False</td>\n",
       "      <td>False</td>\n",
       "      <td>False</td>\n",
       "      <td>True</td>\n",
       "      <td>True</td>\n",
       "      <td>False</td>\n",
       "      <td>False</td>\n",
       "      <td>False</td>\n",
       "      <td>False</td>\n",
       "      <td>False</td>\n",
       "      <td>False</td>\n",
       "      <td>False</td>\n",
       "      <td>False</td>\n",
       "      <td>False</td>\n",
       "      <td>True</td>\n",
       "      <td>False</td>\n",
       "      <td>False</td>\n",
       "      <td>False</td>\n",
       "      <td>False</td>\n",
       "      <td>False</td>\n",
       "      <td>False</td>\n",
       "      <td>False</td>\n",
       "      <td>False</td>\n",
       "      <td>False</td>\n",
       "    </tr>\n",
       "    <tr>\n",
       "      <th>2</th>\n",
       "      <td>3000</td>\n",
       "      <td>3</td>\n",
       "      <td>18.64</td>\n",
       "      <td>48000.0</td>\n",
       "      <td>5.35</td>\n",
       "      <td>4.0</td>\n",
       "      <td>False</td>\n",
       "      <td>False</td>\n",
       "      <td>False</td>\n",
       "      <td>True</td>\n",
       "      <td>False</td>\n",
       "      <td>False</td>\n",
       "      <td>False</td>\n",
       "      <td>False</td>\n",
       "      <td>False</td>\n",
       "      <td>False</td>\n",
       "      <td>False</td>\n",
       "      <td>False</td>\n",
       "      <td>False</td>\n",
       "      <td>False</td>\n",
       "      <td>True</td>\n",
       "      <td>False</td>\n",
       "      <td>False</td>\n",
       "      <td>False</td>\n",
       "      <td>False</td>\n",
       "      <td>True</td>\n",
       "      <td>True</td>\n",
       "      <td>False</td>\n",
       "      <td>False</td>\n",
       "      <td>False</td>\n",
       "      <td>False</td>\n",
       "      <td>False</td>\n",
       "      <td>False</td>\n",
       "      <td>False</td>\n",
       "      <td>False</td>\n",
       "      <td>False</td>\n",
       "      <td>False</td>\n",
       "      <td>False</td>\n",
       "      <td>False</td>\n",
       "      <td>False</td>\n",
       "      <td>False</td>\n",
       "      <td>False</td>\n",
       "      <td>False</td>\n",
       "      <td>False</td>\n",
       "      <td>False</td>\n",
       "      <td>False</td>\n",
       "    </tr>\n",
       "    <tr>\n",
       "      <th>3</th>\n",
       "      <td>5600</td>\n",
       "      <td>5</td>\n",
       "      <td>21.28</td>\n",
       "      <td>40000.0</td>\n",
       "      <td>5.55</td>\n",
       "      <td>13.0</td>\n",
       "      <td>False</td>\n",
       "      <td>False</td>\n",
       "      <td>False</td>\n",
       "      <td>False</td>\n",
       "      <td>True</td>\n",
       "      <td>False</td>\n",
       "      <td>False</td>\n",
       "      <td>False</td>\n",
       "      <td>False</td>\n",
       "      <td>True</td>\n",
       "      <td>False</td>\n",
       "      <td>False</td>\n",
       "      <td>False</td>\n",
       "      <td>False</td>\n",
       "      <td>False</td>\n",
       "      <td>False</td>\n",
       "      <td>False</td>\n",
       "      <td>False</td>\n",
       "      <td>True</td>\n",
       "      <td>False</td>\n",
       "      <td>True</td>\n",
       "      <td>False</td>\n",
       "      <td>False</td>\n",
       "      <td>False</td>\n",
       "      <td>False</td>\n",
       "      <td>False</td>\n",
       "      <td>False</td>\n",
       "      <td>False</td>\n",
       "      <td>False</td>\n",
       "      <td>False</td>\n",
       "      <td>False</td>\n",
       "      <td>False</td>\n",
       "      <td>True</td>\n",
       "      <td>False</td>\n",
       "      <td>False</td>\n",
       "      <td>False</td>\n",
       "      <td>False</td>\n",
       "      <td>False</td>\n",
       "      <td>False</td>\n",
       "      <td>False</td>\n",
       "    </tr>\n",
       "    <tr>\n",
       "      <th>4</th>\n",
       "      <td>5375</td>\n",
       "      <td>5</td>\n",
       "      <td>12.69</td>\n",
       "      <td>15000.0</td>\n",
       "      <td>18.08</td>\n",
       "      <td>3.0</td>\n",
       "      <td>True</td>\n",
       "      <td>False</td>\n",
       "      <td>False</td>\n",
       "      <td>False</td>\n",
       "      <td>False</td>\n",
       "      <td>False</td>\n",
       "      <td>False</td>\n",
       "      <td>False</td>\n",
       "      <td>False</td>\n",
       "      <td>False</td>\n",
       "      <td>False</td>\n",
       "      <td>False</td>\n",
       "      <td>False</td>\n",
       "      <td>False</td>\n",
       "      <td>False</td>\n",
       "      <td>True</td>\n",
       "      <td>False</td>\n",
       "      <td>False</td>\n",
       "      <td>False</td>\n",
       "      <td>True</td>\n",
       "      <td>False</td>\n",
       "      <td>True</td>\n",
       "      <td>False</td>\n",
       "      <td>False</td>\n",
       "      <td>False</td>\n",
       "      <td>False</td>\n",
       "      <td>False</td>\n",
       "      <td>False</td>\n",
       "      <td>False</td>\n",
       "      <td>False</td>\n",
       "      <td>True</td>\n",
       "      <td>False</td>\n",
       "      <td>False</td>\n",
       "      <td>False</td>\n",
       "      <td>False</td>\n",
       "      <td>False</td>\n",
       "      <td>False</td>\n",
       "      <td>False</td>\n",
       "      <td>False</td>\n",
       "      <td>True</td>\n",
       "    </tr>\n",
       "  </tbody>\n",
       "</table>\n",
       "</div>"
      ],
      "text/plain": [
       "   loan_amnt  loan_term_year  int_rate  annual_inc    dti  total_acc  grade_B  \\\n",
       "0       2400               3     15.96     12252.0   8.72       10.0    False   \n",
       "1      10000               3     13.49     49200.0  20.00       37.0    False   \n",
       "2       3000               3     18.64     48000.0   5.35        4.0    False   \n",
       "3       5600               5     21.28     40000.0   5.55       13.0    False   \n",
       "4       5375               5     12.69     15000.0  18.08        3.0     True   \n",
       "\n",
       "   grade_C  grade_D  grade_E  grade_F  grade_G  emp_length_10+ years  \\\n",
       "0     True    False    False    False    False                  True   \n",
       "1     True    False    False    False    False                  True   \n",
       "2    False    False     True    False    False                 False   \n",
       "3    False    False    False     True    False                 False   \n",
       "4    False    False    False    False    False                 False   \n",
       "\n",
       "   emp_length_2 years  emp_length_3 years  emp_length_4 years  \\\n",
       "0               False               False               False   \n",
       "1               False               False               False   \n",
       "2               False               False               False   \n",
       "3               False               False                True   \n",
       "4               False               False               False   \n",
       "\n",
       "   emp_length_5 years  emp_length_6 years  emp_length_7 years  \\\n",
       "0               False               False               False   \n",
       "1               False               False               False   \n",
       "2               False               False               False   \n",
       "3               False               False               False   \n",
       "4               False               False               False   \n",
       "\n",
       "   emp_length_8 years  emp_length_9 years  emp_length_< 1 year  \\\n",
       "0               False               False                False   \n",
       "1               False               False                False   \n",
       "2               False                True                False   \n",
       "3               False               False                False   \n",
       "4               False               False                 True   \n",
       "\n",
       "   home_ownership_NONE  home_ownership_OTHER  home_ownership_OWN  \\\n",
       "0                False                 False               False   \n",
       "1                False                 False               False   \n",
       "2                False                 False               False   \n",
       "3                False                 False                True   \n",
       "4                False                 False               False   \n",
       "\n",
       "   home_ownership_RENT  verification_status_Source Verified  \\\n",
       "0                 True                                False   \n",
       "1                 True                                 True   \n",
       "2                 True                                 True   \n",
       "3                False                                 True   \n",
       "4                 True                                False   \n",
       "\n",
       "   verification_status_Verified  purpose_credit_card  \\\n",
       "0                         False                False   \n",
       "1                         False                False   \n",
       "2                         False                False   \n",
       "3                         False                False   \n",
       "4                          True                False   \n",
       "\n",
       "   purpose_debt_consolidation  purpose_educational  purpose_home_improvement  \\\n",
       "0                       False                False                     False   \n",
       "1                       False                False                     False   \n",
       "2                       False                False                     False   \n",
       "3                       False                False                     False   \n",
       "4                       False                False                     False   \n",
       "\n",
       "   purpose_house  purpose_major_purchase  purpose_medical  purpose_moving  \\\n",
       "0          False                   False            False           False   \n",
       "1          False                   False            False           False   \n",
       "2          False                   False            False           False   \n",
       "3          False                   False            False           False   \n",
       "4          False                   False            False           False   \n",
       "\n",
       "   purpose_other  purpose_renewable_energy  purpose_small_business  \\\n",
       "0          False                     False                    True   \n",
       "1           True                     False                   False   \n",
       "2          False                     False                   False   \n",
       "3          False                     False                    True   \n",
       "4           True                     False                   False   \n",
       "\n",
       "   purpose_vacation  purpose_wedding  addr_state_FL  addr_state_IL  \\\n",
       "0             False            False          False           True   \n",
       "1             False            False          False          False   \n",
       "2             False            False          False          False   \n",
       "3             False            False          False          False   \n",
       "4             False            False          False          False   \n",
       "\n",
       "   addr_state_NJ  addr_state_NY  addr_state_TX  \n",
       "0          False          False          False  \n",
       "1          False          False          False  \n",
       "2          False          False          False  \n",
       "3          False          False          False  \n",
       "4          False          False           True  "
      ]
     },
     "execution_count": 33,
     "metadata": {},
     "output_type": "execute_result"
    }
   ],
   "source": [
    "df_with_dummies = pd.get_dummies(df, columns=['grade', 'emp_length', 'home_ownership', 'verification_status', 'purpose', 'addr_state' ], drop_first=True)\n",
    "#df_with_dummies = pd.get_dummies(df, columns=['emp_length', 'home_ownership', 'verification_status', 'purpose', 'addr_state' ], drop_first=True)\n",
    "df_with_dummies.head()"
   ]
  },
  {
   "cell_type": "markdown",
   "id": "c48078b3-2538-4113-afdd-54c37c622c6d",
   "metadata": {},
   "source": [
    "## Requirment 5. Training the Logistic Regression Model\n",
    "- **Split the dataset** into training and testing sets.\n",
    "- **Train a logistic regression model** using the selected features.\n",
    "- **Evaluate the model's performance** using appropriate metrics.\n",
    "- **Compare the model performance with zero-model performance**\n",
    "- **Understand type 1&2 errors and their trade-off**\n"
   ]
  },
  {
   "cell_type": "code",
   "execution_count": 34,
   "id": "7f018343-2ad2-41d8-9e32-b4ab34f7a9f6",
   "metadata": {
    "tags": []
   },
   "outputs": [],
   "source": [
    "# This method produces a colored heatmap for the confusion matrix.\n",
    "def confusion_matrix(test, predict, labels, title='Confusion Matrix'):\n",
    "    '''\n",
    "        test: true label of test data, must be one dimensional\n",
    "        predict: predicted label of test data, must be one dimensional\n",
    "        labels: list of label names, ie: ['positive', 'negative']\n",
    "        title: plot title\n",
    "    '''\n",
    "\n",
    "    bins = len(labels)\n",
    "    # Make a 2D histogram from the test and result arrays\n",
    "    pts, xe, ye = np.histogram2d(test, predict, bins)\n",
    "\n",
    "    # For simplicity we create a new DataFrame\n",
    "    pd_pts = pd.DataFrame(pts.astype(int), index=labels, columns=labels )\n",
    "    \n",
    "    # Display heatmap and add decorations\n",
    "    hm = sns.heatmap(pd_pts, annot=True, fmt=\"d\", cmap='Blues')\n",
    "    hm.axes.set_title(title, fontsize=20)\n",
    "    hm.axes.set_xlabel('Predicted', fontsize=18)\n",
    "    hm.axes.set_ylabel('Actual', fontsize=18)\n",
    "\n",
    "    return None"
   ]
  },
  {
   "cell_type": "code",
   "execution_count": 35,
   "id": "d6bcaf8d-132f-4f07-8b6a-e0553d113fb2",
   "metadata": {
    "tags": []
   },
   "outputs": [],
   "source": [
    "from sklearn.model_selection import train_test_split\n",
    "data = df_with_dummies\n",
    "label = loan_df.repaid\n",
    "d_train, d_test, l_train, l_test = train_test_split(data, label, test_size=0.3, random_state=23)"
   ]
  },
  {
   "cell_type": "code",
   "execution_count": 36,
   "id": "f1b53fbd-30c3-4dd3-97cc-3dea4c1f6c5f",
   "metadata": {
    "tags": []
   },
   "outputs": [
    {
     "name": "stdout",
     "output_type": "stream",
     "text": [
      "0.8499916289971539\n",
      "              precision    recall  f1-score   support\n",
      "\n",
      "           0       0.40      0.00      0.01       894\n",
      "           1       0.85      1.00      0.92      5079\n",
      "\n",
      "    accuracy                           0.85      5973\n",
      "   macro avg       0.63      0.50      0.46      5973\n",
      "weighted avg       0.78      0.85      0.78      5973\n",
      "\n"
     ]
    }
   ],
   "source": [
    "from sklearn.linear_model import LogisticRegression\n",
    "from sklearn.metrics import accuracy_score, classification_report\n",
    "\n",
    "model = LogisticRegression()\n",
    "model.fit(d_train, l_train)\n",
    "\n",
    "# Predict on the test set\n",
    "l_pred = model.predict(d_test)\n",
    "\n",
    "# Evaluate the model\n",
    "accuracy = accuracy_score(l_test, l_pred)\n",
    "print(accuracy)\n",
    "class_report = classification_report(l_test, l_pred)\n",
    "print(class_report)"
   ]
  },
  {
   "cell_type": "code",
   "execution_count": 37,
   "id": "6c8154d3-ce4a-40b2-abab-65aafa7ca453",
   "metadata": {
    "tags": []
   },
   "outputs": [
    {
     "data": {
      "image/png": "[encoded data removed]",
      "text/plain": [
       "<Figure size 640x480 with 2 Axes>"
      ]
     },
     "metadata": {},
     "output_type": "display_data"
    }
   ],
   "source": [
    "confusion_matrix(l_test, l_pred, [0, 1])"
   ]
  },
  {
   "cell_type": "code",
   "execution_count": 38,
   "id": "c963a864-48b3-4fb0-9e11-661a3c8ab986",
   "metadata": {
    "tags": []
   },
   "outputs": [
    {
     "data": {
      "text/plain": [
       "0.8503264691109995"
      ]
     },
     "execution_count": 38,
     "metadata": {},
     "output_type": "execute_result"
    }
   ],
   "source": [
    "# Zero model\n",
    "l_test.mean()"
   ]
  },
  {
   "cell_type": "markdown",
   "id": "27512a90-4e8f-4fd7-9857-f5cf7b0425c0",
   "metadata": {},
   "source": [
    "## Requirment 6. Improving Model\n",
    "- **Tune the model hyperparameter** to reduce certain type of error.\n",
    "- **Re-train the model** with the optimized hyperparameters."
   ]
  },
  {
   "cell_type": "code",
   "execution_count": 39,
   "id": "98fbe5a6-5338-47a2-9267-8e2a981a1dba",
   "metadata": {
    "tags": []
   },
   "outputs": [
    {
     "name": "stdout",
     "output_type": "stream",
     "text": [
      "0.5102963335007534\n",
      "              precision    recall  f1-score   support\n",
      "\n",
      "           0       0.19      0.73      0.31       894\n",
      "           1       0.91      0.47      0.62      5079\n",
      "\n",
      "    accuracy                           0.51      5973\n",
      "   macro avg       0.55      0.60      0.46      5973\n",
      "weighted avg       0.80      0.51      0.57      5973\n",
      "\n"
     ]
    }
   ],
   "source": [
    "model = LogisticRegression(class_weight='balanced')\n",
    "model.fit(d_train, l_train)\n",
    "\n",
    "# Predict on the test set\n",
    "l_pred = model.predict(d_test)\n",
    "\n",
    "# Evaluate the model\n",
    "accuracy = accuracy_score(l_test, l_pred)\n",
    "print(accuracy)\n",
    "class_report = classification_report(l_test, l_pred)\n",
    "print(class_report)"
   ]
  },
  {
   "cell_type": "code",
   "execution_count": 40,
   "id": "a50180a9-179a-4fdc-a6b0-e8f31904289d",
   "metadata": {},
   "outputs": [
    {
     "data": {
      "image/png": "[encoded data removed]",
      "text/plain": [
       "<Figure size 640x480 with 2 Axes>"
      ]
     },
     "metadata": {},
     "output_type": "display_data"
    }
   ],
   "source": [
    "confusion_matrix(l_test, l_pred, [0, 1])"
   ]
  },
  {
   "cell_type": "code",
   "execution_count": 41,
   "id": "73be96c7-58ac-41ca-88d9-870f2c66ca2f",
   "metadata": {
    "tags": []
   },
   "outputs": [
    {
     "name": "stdout",
     "output_type": "stream",
     "text": [
      "0.41235560020090406\n",
      "              precision    recall  f1-score   support\n",
      "\n",
      "           0       0.18      0.85      0.30       894\n",
      "           1       0.93      0.34      0.49      5079\n",
      "\n",
      "    accuracy                           0.41      5973\n",
      "   macro avg       0.55      0.59      0.40      5973\n",
      "weighted avg       0.81      0.41      0.46      5973\n",
      "\n"
     ]
    }
   ],
   "source": [
    "model = LogisticRegression(class_weight={0:0.9, 1:0.1})\n",
    "model.fit(d_train, l_train)\n",
    "\n",
    "# Predict on the test set\n",
    "l_pred = model.predict(d_test)\n",
    "\n",
    "# Evaluate the model\n",
    "accuracy = accuracy_score(l_test, l_pred)\n",
    "print(accuracy)\n",
    "class_report = classification_report(l_test, l_pred)\n",
    "print(class_report)"
   ]
  },
  {
   "cell_type": "code",
   "execution_count": 42,
   "id": "bf34b4ca-4cd2-47fb-9a33-38608a3be0fd",
   "metadata": {},
   "outputs": [
    {
     "data": {
      "image/png": "[encoded data removed]",
      "text/plain": [
       "<Figure size 640x480 with 2 Axes>"
      ]
     },
     "metadata": {},
     "output_type": "display_data"
    }
   ],
   "source": [
    "confusion_matrix(l_test, l_pred, [0, 1])"
   ]
  },
  {
   "cell_type": "markdown",
   "id": "acf091f0-cf18-418c-9e2c-a9cdf0538912",
   "metadata": {},
   "source": [
    "## Requirement 7. Making Predictions and Constructing a Portfolio\n",
    "- **Use the trained model** to make predictions on the test set.\n",
    "- **Construct a loan portfolio** by selecting loans predicted to be paid in full."
   ]
  },
  {
   "cell_type": "code",
   "execution_count": 43,
   "id": "bd1957b0-a6b3-4392-83ee-d6e236a4061c",
   "metadata": {
    "tags": []
   },
   "outputs": [
    {
     "data": {
      "text/html": [
       "<div>\n",
       "<style scoped>\n",
       "    .dataframe tbody tr th:only-of-type {\n",
       "        vertical-align: middle;\n",
       "    }\n",
       "\n",
       "    .dataframe tbody tr th {\n",
       "        vertical-align: top;\n",
       "    }\n",
       "\n",
       "    .dataframe thead th {\n",
       "        text-align: right;\n",
       "    }\n",
       "</style>\n",
       "<table border=\"1\" class=\"dataframe\">\n",
       "  <thead>\n",
       "    <tr style=\"text-align: right;\">\n",
       "      <th></th>\n",
       "      <th>loan_amnt</th>\n",
       "      <th>loan_term_year</th>\n",
       "      <th>grade</th>\n",
       "      <th>int_rate</th>\n",
       "      <th>purpose</th>\n",
       "      <th>annual_inc</th>\n",
       "      <th>emp_length</th>\n",
       "      <th>verification_status</th>\n",
       "      <th>home_ownership</th>\n",
       "      <th>addr_state</th>\n",
       "      <th>dti</th>\n",
       "      <th>total_acc</th>\n",
       "      <th>total_pymnt</th>\n",
       "      <th>recoveries</th>\n",
       "      <th>collection_recovery_fee</th>\n",
       "      <th>loan_status</th>\n",
       "      <th>repaid</th>\n",
       "      <th>annual_return</th>\n",
       "    </tr>\n",
       "  </thead>\n",
       "  <tbody>\n",
       "    <tr>\n",
       "      <th>13202</th>\n",
       "      <td>15000</td>\n",
       "      <td>5</td>\n",
       "      <td>C</td>\n",
       "      <td>13.98</td>\n",
       "      <td>debt_consolidation</td>\n",
       "      <td>125000.0</td>\n",
       "      <td>10+ years</td>\n",
       "      <td>Not Verified</td>\n",
       "      <td>MORTGAGE</td>\n",
       "      <td>NJ</td>\n",
       "      <td>15.35</td>\n",
       "      <td>44.0</td>\n",
       "      <td>20932.049347</td>\n",
       "      <td>0.0</td>\n",
       "      <td>0.0</td>\n",
       "      <td>Fully Paid</td>\n",
       "      <td>1</td>\n",
       "      <td>0.226096</td>\n",
       "    </tr>\n",
       "    <tr>\n",
       "      <th>3985</th>\n",
       "      <td>26500</td>\n",
       "      <td>5</td>\n",
       "      <td>B</td>\n",
       "      <td>10.59</td>\n",
       "      <td>debt_consolidation</td>\n",
       "      <td>81000.0</td>\n",
       "      <td>10+ years</td>\n",
       "      <td>Verified</td>\n",
       "      <td>MORTGAGE</td>\n",
       "      <td>TX</td>\n",
       "      <td>11.19</td>\n",
       "      <td>16.0</td>\n",
       "      <td>22271.449979</td>\n",
       "      <td>0.0</td>\n",
       "      <td>0.0</td>\n",
       "      <td>Fully Paid</td>\n",
       "      <td>1</td>\n",
       "      <td>0.171757</td>\n",
       "    </tr>\n",
       "    <tr>\n",
       "      <th>8230</th>\n",
       "      <td>7000</td>\n",
       "      <td>3</td>\n",
       "      <td>A</td>\n",
       "      <td>7.29</td>\n",
       "      <td>other</td>\n",
       "      <td>150000.0</td>\n",
       "      <td>5 years</td>\n",
       "      <td>Not Verified</td>\n",
       "      <td>MORTGAGE</td>\n",
       "      <td>NY</td>\n",
       "      <td>19.54</td>\n",
       "      <td>29.0</td>\n",
       "      <td>7622.612042</td>\n",
       "      <td>0.0</td>\n",
       "      <td>0.0</td>\n",
       "      <td>Fully Paid</td>\n",
       "      <td>1</td>\n",
       "      <td>0.115668</td>\n",
       "    </tr>\n",
       "    <tr>\n",
       "      <th>6112</th>\n",
       "      <td>7000</td>\n",
       "      <td>3</td>\n",
       "      <td>A</td>\n",
       "      <td>5.99</td>\n",
       "      <td>debt_consolidation</td>\n",
       "      <td>35000.0</td>\n",
       "      <td>9 years</td>\n",
       "      <td>Not Verified</td>\n",
       "      <td>RENT</td>\n",
       "      <td>TX</td>\n",
       "      <td>10.80</td>\n",
       "      <td>28.0</td>\n",
       "      <td>7508.402271</td>\n",
       "      <td>0.0</td>\n",
       "      <td>0.0</td>\n",
       "      <td>Fully Paid</td>\n",
       "      <td>1</td>\n",
       "      <td>0.103020</td>\n",
       "    </tr>\n",
       "    <tr>\n",
       "      <th>12496</th>\n",
       "      <td>2000</td>\n",
       "      <td>3</td>\n",
       "      <td>C</td>\n",
       "      <td>13.23</td>\n",
       "      <td>other</td>\n",
       "      <td>24702.0</td>\n",
       "      <td>10+ years</td>\n",
       "      <td>Not Verified</td>\n",
       "      <td>RENT</td>\n",
       "      <td>IL</td>\n",
       "      <td>15.06</td>\n",
       "      <td>6.0</td>\n",
       "      <td>2434.304765</td>\n",
       "      <td>0.0</td>\n",
       "      <td>0.0</td>\n",
       "      <td>Fully Paid</td>\n",
       "      <td>1</td>\n",
       "      <td>0.207292</td>\n",
       "    </tr>\n",
       "  </tbody>\n",
       "</table>\n",
       "</div>"
      ],
      "text/plain": [
       "       loan_amnt  loan_term_year grade  int_rate             purpose  \\\n",
       "13202      15000               5     C     13.98  debt_consolidation   \n",
       "3985       26500               5     B     10.59  debt_consolidation   \n",
       "8230        7000               3     A      7.29               other   \n",
       "6112        7000               3     A      5.99  debt_consolidation   \n",
       "12496       2000               3     C     13.23               other   \n",
       "\n",
       "       annual_inc emp_length verification_status home_ownership addr_state  \\\n",
       "13202    125000.0  10+ years        Not Verified       MORTGAGE         NJ   \n",
       "3985      81000.0  10+ years            Verified       MORTGAGE         TX   \n",
       "8230     150000.0    5 years        Not Verified       MORTGAGE         NY   \n",
       "6112      35000.0    9 years        Not Verified           RENT         TX   \n",
       "12496     24702.0  10+ years        Not Verified           RENT         IL   \n",
       "\n",
       "         dti  total_acc   total_pymnt  recoveries  collection_recovery_fee  \\\n",
       "13202  15.35       44.0  20932.049347         0.0                      0.0   \n",
       "3985   11.19       16.0  22271.449979         0.0                      0.0   \n",
       "8230   19.54       29.0   7622.612042         0.0                      0.0   \n",
       "6112   10.80       28.0   7508.402271         0.0                      0.0   \n",
       "12496  15.06        6.0   2434.304765         0.0                      0.0   \n",
       "\n",
       "      loan_status  repaid  annual_return  \n",
       "13202  Fully Paid       1       0.226096  \n",
       "3985   Fully Paid       1       0.171757  \n",
       "8230   Fully Paid       1       0.115668  \n",
       "6112   Fully Paid       1       0.103020  \n",
       "12496  Fully Paid       1       0.207292  "
      ]
     },
     "execution_count": 43,
     "metadata": {},
     "output_type": "execute_result"
    }
   ],
   "source": [
    "test_portfolio = loan_df.loc[d_test.index]\n",
    "test_portfolio.head()"
   ]
  },
  {
   "cell_type": "code",
   "execution_count": 44,
   "id": "545268be-a6b1-4d03-8ab8-1501faf4dd8a",
   "metadata": {
    "tags": []
   },
   "outputs": [
    {
     "data": {
      "text/html": [
       "<div>\n",
       "<style scoped>\n",
       "    .dataframe tbody tr th:only-of-type {\n",
       "        vertical-align: middle;\n",
       "    }\n",
       "\n",
       "    .dataframe tbody tr th {\n",
       "        vertical-align: top;\n",
       "    }\n",
       "\n",
       "    .dataframe thead th {\n",
       "        text-align: right;\n",
       "    }\n",
       "</style>\n",
       "<table border=\"1\" class=\"dataframe\">\n",
       "  <thead>\n",
       "    <tr style=\"text-align: right;\">\n",
       "      <th></th>\n",
       "      <th>loan_amnt</th>\n",
       "      <th>loan_term_year</th>\n",
       "      <th>grade</th>\n",
       "      <th>int_rate</th>\n",
       "      <th>purpose</th>\n",
       "      <th>annual_inc</th>\n",
       "      <th>emp_length</th>\n",
       "      <th>verification_status</th>\n",
       "      <th>home_ownership</th>\n",
       "      <th>addr_state</th>\n",
       "      <th>dti</th>\n",
       "      <th>total_acc</th>\n",
       "      <th>total_pymnt</th>\n",
       "      <th>recoveries</th>\n",
       "      <th>collection_recovery_fee</th>\n",
       "      <th>loan_status</th>\n",
       "      <th>repaid</th>\n",
       "      <th>annual_return</th>\n",
       "    </tr>\n",
       "  </thead>\n",
       "  <tbody>\n",
       "    <tr>\n",
       "      <th>8230</th>\n",
       "      <td>7000</td>\n",
       "      <td>3</td>\n",
       "      <td>A</td>\n",
       "      <td>7.29</td>\n",
       "      <td>other</td>\n",
       "      <td>150000.0</td>\n",
       "      <td>5 years</td>\n",
       "      <td>Not Verified</td>\n",
       "      <td>MORTGAGE</td>\n",
       "      <td>NY</td>\n",
       "      <td>19.54</td>\n",
       "      <td>29.0</td>\n",
       "      <td>7622.612042</td>\n",
       "      <td>0.0</td>\n",
       "      <td>0.0</td>\n",
       "      <td>Fully Paid</td>\n",
       "      <td>1</td>\n",
       "      <td>0.115668</td>\n",
       "    </tr>\n",
       "    <tr>\n",
       "      <th>6112</th>\n",
       "      <td>7000</td>\n",
       "      <td>3</td>\n",
       "      <td>A</td>\n",
       "      <td>5.99</td>\n",
       "      <td>debt_consolidation</td>\n",
       "      <td>35000.0</td>\n",
       "      <td>9 years</td>\n",
       "      <td>Not Verified</td>\n",
       "      <td>RENT</td>\n",
       "      <td>TX</td>\n",
       "      <td>10.80</td>\n",
       "      <td>28.0</td>\n",
       "      <td>7508.402271</td>\n",
       "      <td>0.0</td>\n",
       "      <td>0.0</td>\n",
       "      <td>Fully Paid</td>\n",
       "      <td>1</td>\n",
       "      <td>0.103020</td>\n",
       "    </tr>\n",
       "    <tr>\n",
       "      <th>15143</th>\n",
       "      <td>20000</td>\n",
       "      <td>3</td>\n",
       "      <td>B</td>\n",
       "      <td>10.25</td>\n",
       "      <td>wedding</td>\n",
       "      <td>85000.0</td>\n",
       "      <td>3 years</td>\n",
       "      <td>Not Verified</td>\n",
       "      <td>RENT</td>\n",
       "      <td>NY</td>\n",
       "      <td>11.35</td>\n",
       "      <td>34.0</td>\n",
       "      <td>23317.790525</td>\n",
       "      <td>0.0</td>\n",
       "      <td>0.0</td>\n",
       "      <td>Fully Paid</td>\n",
       "      <td>1</td>\n",
       "      <td>0.170153</td>\n",
       "    </tr>\n",
       "    <tr>\n",
       "      <th>8850</th>\n",
       "      <td>5000</td>\n",
       "      <td>3</td>\n",
       "      <td>A</td>\n",
       "      <td>7.29</td>\n",
       "      <td>credit_card</td>\n",
       "      <td>60000.0</td>\n",
       "      <td>10+ years</td>\n",
       "      <td>Not Verified</td>\n",
       "      <td>RENT</td>\n",
       "      <td>CA</td>\n",
       "      <td>12.94</td>\n",
       "      <td>21.0</td>\n",
       "      <td>5581.772363</td>\n",
       "      <td>0.0</td>\n",
       "      <td>0.0</td>\n",
       "      <td>Fully Paid</td>\n",
       "      <td>1</td>\n",
       "      <td>0.131315</td>\n",
       "    </tr>\n",
       "    <tr>\n",
       "      <th>10399</th>\n",
       "      <td>8000</td>\n",
       "      <td>3</td>\n",
       "      <td>A</td>\n",
       "      <td>7.29</td>\n",
       "      <td>debt_consolidation</td>\n",
       "      <td>66000.0</td>\n",
       "      <td>1 year</td>\n",
       "      <td>Not Verified</td>\n",
       "      <td>RENT</td>\n",
       "      <td>TX</td>\n",
       "      <td>10.76</td>\n",
       "      <td>15.0</td>\n",
       "      <td>8931.111694</td>\n",
       "      <td>0.0</td>\n",
       "      <td>0.0</td>\n",
       "      <td>Fully Paid</td>\n",
       "      <td>1</td>\n",
       "      <td>0.134422</td>\n",
       "    </tr>\n",
       "  </tbody>\n",
       "</table>\n",
       "</div>"
      ],
      "text/plain": [
       "       loan_amnt  loan_term_year grade  int_rate             purpose  \\\n",
       "8230        7000               3     A      7.29               other   \n",
       "6112        7000               3     A      5.99  debt_consolidation   \n",
       "15143      20000               3     B     10.25             wedding   \n",
       "8850        5000               3     A      7.29         credit_card   \n",
       "10399       8000               3     A      7.29  debt_consolidation   \n",
       "\n",
       "       annual_inc emp_length verification_status home_ownership addr_state  \\\n",
       "8230     150000.0    5 years        Not Verified       MORTGAGE         NY   \n",
       "6112      35000.0    9 years        Not Verified           RENT         TX   \n",
       "15143     85000.0    3 years        Not Verified           RENT         NY   \n",
       "8850      60000.0  10+ years        Not Verified           RENT         CA   \n",
       "10399     66000.0     1 year        Not Verified           RENT         TX   \n",
       "\n",
       "         dti  total_acc   total_pymnt  recoveries  collection_recovery_fee  \\\n",
       "8230   19.54       29.0   7622.612042         0.0                      0.0   \n",
       "6112   10.80       28.0   7508.402271         0.0                      0.0   \n",
       "15143  11.35       34.0  23317.790525         0.0                      0.0   \n",
       "8850   12.94       21.0   5581.772363         0.0                      0.0   \n",
       "10399  10.76       15.0   8931.111694         0.0                      0.0   \n",
       "\n",
       "      loan_status  repaid  annual_return  \n",
       "8230   Fully Paid       1       0.115668  \n",
       "6112   Fully Paid       1       0.103020  \n",
       "15143  Fully Paid       1       0.170153  \n",
       "8850   Fully Paid       1       0.131315  \n",
       "10399  Fully Paid       1       0.134422  "
      ]
     },
     "execution_count": 44,
     "metadata": {},
     "output_type": "execute_result"
    }
   ],
   "source": [
    "portfolio = test_portfolio[l_pred==1]\n",
    "portfolio.head()"
   ]
  },
  {
   "cell_type": "markdown",
   "id": "538364c9-a151-44de-adca-b3003e29073c",
   "metadata": {},
   "source": [
    "## Requirement 8. Analyzing Portfolio Performance\n",
    "- **Evaluate the performance** of the constructed portfolio using metrics such as annual return and its standard deviation. Compare the performance with the whole test set.\n",
    "- **Analyze the porfolio** by examining its distribution across various loan grades and terms."
   ]
  },
  {
   "cell_type": "code",
   "execution_count": 45,
   "id": "c296d201-20d2-462b-b257-68c0bdfb897d",
   "metadata": {
    "tags": []
   },
   "outputs": [
    {
     "data": {
      "text/plain": [
       "(0.07012260795090526, 0.28878256575041106)"
      ]
     },
     "execution_count": 45,
     "metadata": {},
     "output_type": "execute_result"
    }
   ],
   "source": [
    "# Test set return and risk\n",
    "test_portfolio.annual_return.mean(), test_portfolio.annual_return.std()"
   ]
  },
  {
   "cell_type": "code",
   "execution_count": 46,
   "id": "55c9b2e1-3485-4b4d-80ac-a6ec599dbfd4",
   "metadata": {
    "tags": []
   },
   "outputs": [
    {
     "data": {
      "text/plain": [
       "(0.09137877640914366, 0.17883638654188877)"
      ]
     },
     "execution_count": 46,
     "metadata": {},
     "output_type": "execute_result"
    }
   ],
   "source": [
    "# Portfolio return and risk\n",
    "portfolio.annual_return.mean(), portfolio.annual_return.std()"
   ]
  },
  {
   "cell_type": "code",
   "execution_count": 47,
   "id": "259469c6-851d-431e-8f6b-f7ee68cd4a08",
   "metadata": {
    "tags": []
   },
   "outputs": [
    {
     "data": {
      "text/plain": [
       "TtestResult(statistic=2.9880006550469926, pvalue=0.002816817017917875, df=7814.0)"
      ]
     },
     "execution_count": 47,
     "metadata": {},
     "output_type": "execute_result"
    }
   ],
   "source": [
    "# Two sample t-test\n",
    "from scipy.stats import ttest_ind\n",
    "ttest_ind(portfolio.annual_return, test_portfolio.annual_return)"
   ]
  },
  {
   "cell_type": "code",
   "execution_count": 48,
   "id": "ba2fb63c-464c-4dd2-a150-92d2e088f35c",
   "metadata": {
    "tags": []
   },
   "outputs": [
    {
     "data": {
      "text/plain": [
       "<Axes: xlabel='grade'>"
      ]
     },
     "execution_count": 48,
     "metadata": {},
     "output_type": "execute_result"
    },
    {
     "data": {
      "image/png": "[encoded data removed]",
      "text/plain": [
       "<Figure size 640x480 with 1 Axes>"
      ]
     },
     "metadata": {},
     "output_type": "display_data"
    }
   ],
   "source": [
    "# Test set loan grade distribution\n",
    "test_portfolio.grade.value_counts().plot.bar()"
   ]
  },
  {
   "cell_type": "code",
   "execution_count": 49,
   "id": "ea0f1240-ee75-44b4-b49f-49309a109c1c",
   "metadata": {
    "tags": []
   },
   "outputs": [
    {
     "data": {
      "text/plain": [
       "<Axes: xlabel='grade'>"
      ]
     },
     "execution_count": 49,
     "metadata": {},
     "output_type": "execute_result"
    },
    {
     "data": {
      "image/png": "[encoded data removed]",
      "text/plain": [
       "<Figure size 640x480 with 1 Axes>"
      ]
     },
     "metadata": {},
     "output_type": "display_data"
    }
   ],
   "source": [
    "# Portfolio loan grade distribution\n",
    "portfolio.grade.value_counts().plot.bar()"
   ]
  },
  {
   "cell_type": "code",
   "execution_count": 50,
   "id": "dab93ce2-db49-4bd0-abf9-40003c076444",
   "metadata": {
    "tags": []
   },
   "outputs": [
    {
     "data": {
      "text/plain": [
       "<Axes: xlabel='loan_term_year'>"
      ]
     },
     "execution_count": 50,
     "metadata": {},
     "output_type": "execute_result"
    },
    {
     "data": {
      "image/png": "[encoded data removed]",
      "text/plain": [
       "<Figure size 640x480 with 1 Axes>"
      ]
     },
     "metadata": {},
     "output_type": "display_data"
    }
   ],
   "source": [
    "# Test set loan term distribution\n",
    "test_portfolio.loan_term_year.value_counts().plot.bar()"
   ]
  },
  {
   "cell_type": "code",
   "execution_count": 51,
   "id": "36ba2c22-e5f3-49a1-a0ce-c8a2ae9d871e",
   "metadata": {
    "tags": []
   },
   "outputs": [
    {
     "data": {
      "text/plain": [
       "<Axes: xlabel='loan_term_year'>"
      ]
     },
     "execution_count": 51,
     "metadata": {},
     "output_type": "execute_result"
    },
    {
     "data": {
      "image/png": "[encoded data removed]",
      "text/plain": [
       "<Figure size 640x480 with 1 Axes>"
      ]
     },
     "metadata": {},
     "output_type": "display_data"
    }
   ],
   "source": [
    "# Portfolio loan term distribution\n",
    "portfolio.loan_term_year.value_counts().plot.bar()"
   ]
  },
  {
   "cell_type": "code",
   "execution_count": 52,
   "id": "33726138-8cdb-47b8-9737-a723daf294cd",
   "metadata": {
    "tags": []
   },
   "outputs": [
    {
     "data": {
      "text/plain": [
       "(12.061235560020092, 8.57527943570266)"
      ]
     },
     "execution_count": 52,
     "metadata": {},
     "output_type": "execute_result"
    }
   ],
   "source": [
    "# Average interest rate of the test set and portfolio\n",
    "test_portfolio.int_rate.mean(), portfolio.int_rate.mean()"
   ]
  },
  {
   "cell_type": "markdown",
   "id": "ad4d0e74-231e-4b99-a3c5-b3d95898f16e",
   "metadata": {},
   "source": [
    "## Requirment 9. Improving Portfolio\n",
    "- **Balance loan distribution** across various loan grades and terms by eliminating certain features from the dataset.\n",
    "- **Re-train the model** with newly selected features.\n",
    "- **Re-evaluate the model**.\n",
    "- **Create portfolio** with the help of the newly trained model.\n",
    "- **Evaluate the new portfolio**."
   ]
  },
  {
   "cell_type": "code",
   "execution_count": 53,
   "id": "2f7281d3-baa8-4d74-ab19-7dc2237297c8",
   "metadata": {
    "tags": []
   },
   "outputs": [
    {
     "data": {
      "text/plain": [
       "Index(['loan_amnt', 'loan_term_year', 'int_rate', 'grade', 'emp_length',\n",
       "       'home_ownership', 'annual_inc', 'verification_status', 'purpose',\n",
       "       'addr_state', 'dti', 'total_acc'],\n",
       "      dtype='object')"
      ]
     },
     "execution_count": 53,
     "metadata": {},
     "output_type": "execute_result"
    }
   ],
   "source": [
    "df.columns"
   ]
  },
  {
   "cell_type": "code",
   "execution_count": 54,
   "id": "05b7664d-30de-4830-b0a9-b64202430aa7",
   "metadata": {
    "tags": []
   },
   "outputs": [
    {
     "data": {
      "text/html": [
       "<div>\n",
       "<style scoped>\n",
       "    .dataframe tbody tr th:only-of-type {\n",
       "        vertical-align: middle;\n",
       "    }\n",
       "\n",
       "    .dataframe tbody tr th {\n",
       "        vertical-align: top;\n",
       "    }\n",
       "\n",
       "    .dataframe thead th {\n",
       "        text-align: right;\n",
       "    }\n",
       "</style>\n",
       "<table border=\"1\" class=\"dataframe\">\n",
       "  <thead>\n",
       "    <tr style=\"text-align: right;\">\n",
       "      <th></th>\n",
       "      <th>loan_amnt</th>\n",
       "      <th>emp_length</th>\n",
       "      <th>home_ownership</th>\n",
       "      <th>annual_inc</th>\n",
       "      <th>verification_status</th>\n",
       "      <th>purpose</th>\n",
       "      <th>addr_state</th>\n",
       "      <th>dti</th>\n",
       "      <th>total_acc</th>\n",
       "    </tr>\n",
       "  </thead>\n",
       "  <tbody>\n",
       "    <tr>\n",
       "      <th>0</th>\n",
       "      <td>2400</td>\n",
       "      <td>10+ years</td>\n",
       "      <td>RENT</td>\n",
       "      <td>12252.0</td>\n",
       "      <td>Not Verified</td>\n",
       "      <td>small_business</td>\n",
       "      <td>IL</td>\n",
       "      <td>8.72</td>\n",
       "      <td>10.0</td>\n",
       "    </tr>\n",
       "    <tr>\n",
       "      <th>1</th>\n",
       "      <td>10000</td>\n",
       "      <td>10+ years</td>\n",
       "      <td>RENT</td>\n",
       "      <td>49200.0</td>\n",
       "      <td>Source Verified</td>\n",
       "      <td>other</td>\n",
       "      <td>CA</td>\n",
       "      <td>20.00</td>\n",
       "      <td>37.0</td>\n",
       "    </tr>\n",
       "    <tr>\n",
       "      <th>2</th>\n",
       "      <td>3000</td>\n",
       "      <td>9 years</td>\n",
       "      <td>RENT</td>\n",
       "      <td>48000.0</td>\n",
       "      <td>Source Verified</td>\n",
       "      <td>car</td>\n",
       "      <td>CA</td>\n",
       "      <td>5.35</td>\n",
       "      <td>4.0</td>\n",
       "    </tr>\n",
       "    <tr>\n",
       "      <th>3</th>\n",
       "      <td>5600</td>\n",
       "      <td>4 years</td>\n",
       "      <td>OWN</td>\n",
       "      <td>40000.0</td>\n",
       "      <td>Source Verified</td>\n",
       "      <td>small_business</td>\n",
       "      <td>CA</td>\n",
       "      <td>5.55</td>\n",
       "      <td>13.0</td>\n",
       "    </tr>\n",
       "    <tr>\n",
       "      <th>4</th>\n",
       "      <td>5375</td>\n",
       "      <td>&lt; 1 year</td>\n",
       "      <td>RENT</td>\n",
       "      <td>15000.0</td>\n",
       "      <td>Verified</td>\n",
       "      <td>other</td>\n",
       "      <td>TX</td>\n",
       "      <td>18.08</td>\n",
       "      <td>3.0</td>\n",
       "    </tr>\n",
       "  </tbody>\n",
       "</table>\n",
       "</div>"
      ],
      "text/plain": [
       "   loan_amnt emp_length home_ownership  annual_inc verification_status  \\\n",
       "0       2400  10+ years           RENT     12252.0        Not Verified   \n",
       "1      10000  10+ years           RENT     49200.0     Source Verified   \n",
       "2       3000    9 years           RENT     48000.0     Source Verified   \n",
       "3       5600    4 years            OWN     40000.0     Source Verified   \n",
       "4       5375   < 1 year           RENT     15000.0            Verified   \n",
       "\n",
       "          purpose addr_state    dti  total_acc  \n",
       "0  small_business         IL   8.72       10.0  \n",
       "1           other         CA  20.00       37.0  \n",
       "2             car         CA   5.35        4.0  \n",
       "3  small_business         CA   5.55       13.0  \n",
       "4           other         TX  18.08        3.0  "
      ]
     },
     "execution_count": 54,
     "metadata": {},
     "output_type": "execute_result"
    }
   ],
   "source": [
    "df2 = df.drop(columns=['loan_term_year', 'int_rate', 'grade'])\n",
    "df2.head()"
   ]
  },
  {
   "cell_type": "code",
   "execution_count": 55,
   "id": "39a77250-9dd4-4eb8-82af-0144920ae1f0",
   "metadata": {
    "tags": []
   },
   "outputs": [],
   "source": [
    "df2_with_dummies = pd.get_dummies(df2, columns=['emp_length', 'home_ownership', 'verification_status', 'purpose', 'addr_state' ], drop_first=True)\n",
    "data = df2_with_dummies\n",
    "label = loan_df.repaid\n",
    "d_train, d_test, l_train, l_test = train_test_split(data, label, test_size=0.3, random_state=23)"
   ]
  },
  {
   "cell_type": "code",
   "execution_count": 56,
   "id": "6fdb3010-1426-4799-b65a-c789ac76ccff",
   "metadata": {
    "tags": []
   },
   "outputs": [
    {
     "name": "stdout",
     "output_type": "stream",
     "text": [
      "0.23924326134270885\n",
      "              precision    recall  f1-score   support\n",
      "\n",
      "           0       0.16      0.93      0.27       894\n",
      "           1       0.91      0.12      0.21      5079\n",
      "\n",
      "    accuracy                           0.24      5973\n",
      "   macro avg       0.53      0.53      0.24      5973\n",
      "weighted avg       0.80      0.24      0.22      5973\n",
      "\n"
     ]
    }
   ],
   "source": [
    "model = LogisticRegression(class_weight={0:0.9, 1:0.1})\n",
    "#model = LogisticRegression(class_weight='balanced')\n",
    "model.fit(d_train, l_train)\n",
    "\n",
    "# Predict on the test set\n",
    "l_pred = model.predict(d_test)\n",
    "\n",
    "# Evaluate the model\n",
    "accuracy = accuracy_score(l_test, l_pred)\n",
    "print(accuracy)\n",
    "class_report = classification_report(l_test, l_pred)\n",
    "print(class_report)"
   ]
  },
  {
   "cell_type": "code",
   "execution_count": 57,
   "id": "a360186b-bacb-4e2c-ba46-71738ea432de",
   "metadata": {},
   "outputs": [
    {
     "data": {
      "image/png": "[encoded data removed]",
      "text/plain": [
       "<Figure size 640x480 with 2 Axes>"
      ]
     },
     "metadata": {},
     "output_type": "display_data"
    }
   ],
   "source": [
    "confusion_matrix(l_test, l_pred, [0, 1])"
   ]
  },
  {
   "cell_type": "code",
   "execution_count": 58,
   "id": "0696680e-47b1-4222-8345-c13344e3c76c",
   "metadata": {
    "tags": []
   },
   "outputs": [
    {
     "data": {
      "text/html": [
       "<div>\n",
       "<style scoped>\n",
       "    .dataframe tbody tr th:only-of-type {\n",
       "        vertical-align: middle;\n",
       "    }\n",
       "\n",
       "    .dataframe tbody tr th {\n",
       "        vertical-align: top;\n",
       "    }\n",
       "\n",
       "    .dataframe thead th {\n",
       "        text-align: right;\n",
       "    }\n",
       "</style>\n",
       "<table border=\"1\" class=\"dataframe\">\n",
       "  <thead>\n",
       "    <tr style=\"text-align: right;\">\n",
       "      <th></th>\n",
       "      <th>loan_amnt</th>\n",
       "      <th>loan_term_year</th>\n",
       "      <th>grade</th>\n",
       "      <th>int_rate</th>\n",
       "      <th>purpose</th>\n",
       "      <th>annual_inc</th>\n",
       "      <th>emp_length</th>\n",
       "      <th>verification_status</th>\n",
       "      <th>home_ownership</th>\n",
       "      <th>addr_state</th>\n",
       "      <th>dti</th>\n",
       "      <th>total_acc</th>\n",
       "      <th>total_pymnt</th>\n",
       "      <th>recoveries</th>\n",
       "      <th>collection_recovery_fee</th>\n",
       "      <th>loan_status</th>\n",
       "      <th>repaid</th>\n",
       "      <th>annual_return</th>\n",
       "    </tr>\n",
       "  </thead>\n",
       "  <tbody>\n",
       "    <tr>\n",
       "      <th>13202</th>\n",
       "      <td>15000</td>\n",
       "      <td>5</td>\n",
       "      <td>C</td>\n",
       "      <td>13.98</td>\n",
       "      <td>debt_consolidation</td>\n",
       "      <td>125000.0</td>\n",
       "      <td>10+ years</td>\n",
       "      <td>Not Verified</td>\n",
       "      <td>MORTGAGE</td>\n",
       "      <td>NJ</td>\n",
       "      <td>15.35</td>\n",
       "      <td>44.0</td>\n",
       "      <td>20932.049347</td>\n",
       "      <td>0.0</td>\n",
       "      <td>0.0</td>\n",
       "      <td>Fully Paid</td>\n",
       "      <td>1</td>\n",
       "      <td>0.226096</td>\n",
       "    </tr>\n",
       "    <tr>\n",
       "      <th>3985</th>\n",
       "      <td>26500</td>\n",
       "      <td>5</td>\n",
       "      <td>B</td>\n",
       "      <td>10.59</td>\n",
       "      <td>debt_consolidation</td>\n",
       "      <td>81000.0</td>\n",
       "      <td>10+ years</td>\n",
       "      <td>Verified</td>\n",
       "      <td>MORTGAGE</td>\n",
       "      <td>TX</td>\n",
       "      <td>11.19</td>\n",
       "      <td>16.0</td>\n",
       "      <td>22271.449979</td>\n",
       "      <td>0.0</td>\n",
       "      <td>0.0</td>\n",
       "      <td>Fully Paid</td>\n",
       "      <td>1</td>\n",
       "      <td>0.171757</td>\n",
       "    </tr>\n",
       "    <tr>\n",
       "      <th>8230</th>\n",
       "      <td>7000</td>\n",
       "      <td>3</td>\n",
       "      <td>A</td>\n",
       "      <td>7.29</td>\n",
       "      <td>other</td>\n",
       "      <td>150000.0</td>\n",
       "      <td>5 years</td>\n",
       "      <td>Not Verified</td>\n",
       "      <td>MORTGAGE</td>\n",
       "      <td>NY</td>\n",
       "      <td>19.54</td>\n",
       "      <td>29.0</td>\n",
       "      <td>7622.612042</td>\n",
       "      <td>0.0</td>\n",
       "      <td>0.0</td>\n",
       "      <td>Fully Paid</td>\n",
       "      <td>1</td>\n",
       "      <td>0.115668</td>\n",
       "    </tr>\n",
       "    <tr>\n",
       "      <th>6112</th>\n",
       "      <td>7000</td>\n",
       "      <td>3</td>\n",
       "      <td>A</td>\n",
       "      <td>5.99</td>\n",
       "      <td>debt_consolidation</td>\n",
       "      <td>35000.0</td>\n",
       "      <td>9 years</td>\n",
       "      <td>Not Verified</td>\n",
       "      <td>RENT</td>\n",
       "      <td>TX</td>\n",
       "      <td>10.80</td>\n",
       "      <td>28.0</td>\n",
       "      <td>7508.402271</td>\n",
       "      <td>0.0</td>\n",
       "      <td>0.0</td>\n",
       "      <td>Fully Paid</td>\n",
       "      <td>1</td>\n",
       "      <td>0.103020</td>\n",
       "    </tr>\n",
       "    <tr>\n",
       "      <th>12496</th>\n",
       "      <td>2000</td>\n",
       "      <td>3</td>\n",
       "      <td>C</td>\n",
       "      <td>13.23</td>\n",
       "      <td>other</td>\n",
       "      <td>24702.0</td>\n",
       "      <td>10+ years</td>\n",
       "      <td>Not Verified</td>\n",
       "      <td>RENT</td>\n",
       "      <td>IL</td>\n",
       "      <td>15.06</td>\n",
       "      <td>6.0</td>\n",
       "      <td>2434.304765</td>\n",
       "      <td>0.0</td>\n",
       "      <td>0.0</td>\n",
       "      <td>Fully Paid</td>\n",
       "      <td>1</td>\n",
       "      <td>0.207292</td>\n",
       "    </tr>\n",
       "  </tbody>\n",
       "</table>\n",
       "</div>"
      ],
      "text/plain": [
       "       loan_amnt  loan_term_year grade  int_rate             purpose  \\\n",
       "13202      15000               5     C     13.98  debt_consolidation   \n",
       "3985       26500               5     B     10.59  debt_consolidation   \n",
       "8230        7000               3     A      7.29               other   \n",
       "6112        7000               3     A      5.99  debt_consolidation   \n",
       "12496       2000               3     C     13.23               other   \n",
       "\n",
       "       annual_inc emp_length verification_status home_ownership addr_state  \\\n",
       "13202    125000.0  10+ years        Not Verified       MORTGAGE         NJ   \n",
       "3985      81000.0  10+ years            Verified       MORTGAGE         TX   \n",
       "8230     150000.0    5 years        Not Verified       MORTGAGE         NY   \n",
       "6112      35000.0    9 years        Not Verified           RENT         TX   \n",
       "12496     24702.0  10+ years        Not Verified           RENT         IL   \n",
       "\n",
       "         dti  total_acc   total_pymnt  recoveries  collection_recovery_fee  \\\n",
       "13202  15.35       44.0  20932.049347         0.0                      0.0   \n",
       "3985   11.19       16.0  22271.449979         0.0                      0.0   \n",
       "8230   19.54       29.0   7622.612042         0.0                      0.0   \n",
       "6112   10.80       28.0   7508.402271         0.0                      0.0   \n",
       "12496  15.06        6.0   2434.304765         0.0                      0.0   \n",
       "\n",
       "      loan_status  repaid  annual_return  \n",
       "13202  Fully Paid       1       0.226096  \n",
       "3985   Fully Paid       1       0.171757  \n",
       "8230   Fully Paid       1       0.115668  \n",
       "6112   Fully Paid       1       0.103020  \n",
       "12496  Fully Paid       1       0.207292  "
      ]
     },
     "execution_count": 58,
     "metadata": {},
     "output_type": "execute_result"
    }
   ],
   "source": [
    "test_portfolio = loan_df.loc[d_test.index]\n",
    "test_portfolio.head()"
   ]
  },
  {
   "cell_type": "code",
   "execution_count": 59,
   "id": "93987ccb-c75e-4678-b368-1331d43766f1",
   "metadata": {
    "tags": []
   },
   "outputs": [
    {
     "data": {
      "text/html": [
       "<div>\n",
       "<style scoped>\n",
       "    .dataframe tbody tr th:only-of-type {\n",
       "        vertical-align: middle;\n",
       "    }\n",
       "\n",
       "    .dataframe tbody tr th {\n",
       "        vertical-align: top;\n",
       "    }\n",
       "\n",
       "    .dataframe thead th {\n",
       "        text-align: right;\n",
       "    }\n",
       "</style>\n",
       "<table border=\"1\" class=\"dataframe\">\n",
       "  <thead>\n",
       "    <tr style=\"text-align: right;\">\n",
       "      <th></th>\n",
       "      <th>loan_amnt</th>\n",
       "      <th>loan_term_year</th>\n",
       "      <th>grade</th>\n",
       "      <th>int_rate</th>\n",
       "      <th>purpose</th>\n",
       "      <th>annual_inc</th>\n",
       "      <th>emp_length</th>\n",
       "      <th>verification_status</th>\n",
       "      <th>home_ownership</th>\n",
       "      <th>addr_state</th>\n",
       "      <th>dti</th>\n",
       "      <th>total_acc</th>\n",
       "      <th>total_pymnt</th>\n",
       "      <th>recoveries</th>\n",
       "      <th>collection_recovery_fee</th>\n",
       "      <th>loan_status</th>\n",
       "      <th>repaid</th>\n",
       "      <th>annual_return</th>\n",
       "    </tr>\n",
       "  </thead>\n",
       "  <tbody>\n",
       "    <tr>\n",
       "      <th>8230</th>\n",
       "      <td>7000</td>\n",
       "      <td>3</td>\n",
       "      <td>A</td>\n",
       "      <td>7.29</td>\n",
       "      <td>other</td>\n",
       "      <td>150000.0</td>\n",
       "      <td>5 years</td>\n",
       "      <td>Not Verified</td>\n",
       "      <td>MORTGAGE</td>\n",
       "      <td>NY</td>\n",
       "      <td>19.54</td>\n",
       "      <td>29.0</td>\n",
       "      <td>7622.612042</td>\n",
       "      <td>0.00</td>\n",
       "      <td>0.0</td>\n",
       "      <td>Fully Paid</td>\n",
       "      <td>1</td>\n",
       "      <td>0.115668</td>\n",
       "    </tr>\n",
       "    <tr>\n",
       "      <th>9933</th>\n",
       "      <td>4800</td>\n",
       "      <td>5</td>\n",
       "      <td>B</td>\n",
       "      <td>10.74</td>\n",
       "      <td>medical</td>\n",
       "      <td>61000.0</td>\n",
       "      <td>4 years</td>\n",
       "      <td>Not Verified</td>\n",
       "      <td>OWN</td>\n",
       "      <td>NJ</td>\n",
       "      <td>14.28</td>\n",
       "      <td>43.0</td>\n",
       "      <td>830.000000</td>\n",
       "      <td>0.48</td>\n",
       "      <td>0.0</td>\n",
       "      <td>Charged Off</td>\n",
       "      <td>0</td>\n",
       "      <td>-0.983985</td>\n",
       "    </tr>\n",
       "    <tr>\n",
       "      <th>11966</th>\n",
       "      <td>12000</td>\n",
       "      <td>5</td>\n",
       "      <td>B</td>\n",
       "      <td>8.88</td>\n",
       "      <td>medical</td>\n",
       "      <td>82000.0</td>\n",
       "      <td>10+ years</td>\n",
       "      <td>Not Verified</td>\n",
       "      <td>MORTGAGE</td>\n",
       "      <td>CA</td>\n",
       "      <td>2.59</td>\n",
       "      <td>63.0</td>\n",
       "      <td>12348.101170</td>\n",
       "      <td>0.00</td>\n",
       "      <td>0.0</td>\n",
       "      <td>Fully Paid</td>\n",
       "      <td>1</td>\n",
       "      <td>0.066656</td>\n",
       "    </tr>\n",
       "    <tr>\n",
       "      <th>19274</th>\n",
       "      <td>1500</td>\n",
       "      <td>3</td>\n",
       "      <td>A</td>\n",
       "      <td>8.32</td>\n",
       "      <td>home_improvement</td>\n",
       "      <td>52000.0</td>\n",
       "      <td>10+ years</td>\n",
       "      <td>Not Verified</td>\n",
       "      <td>MORTGAGE</td>\n",
       "      <td>NY</td>\n",
       "      <td>12.39</td>\n",
       "      <td>39.0</td>\n",
       "      <td>1700.132267</td>\n",
       "      <td>0.00</td>\n",
       "      <td>0.0</td>\n",
       "      <td>Fully Paid</td>\n",
       "      <td>1</td>\n",
       "      <td>0.143581</td>\n",
       "    </tr>\n",
       "    <tr>\n",
       "      <th>18348</th>\n",
       "      <td>6000</td>\n",
       "      <td>3</td>\n",
       "      <td>D</td>\n",
       "      <td>14.74</td>\n",
       "      <td>debt_consolidation</td>\n",
       "      <td>85000.0</td>\n",
       "      <td>1 year</td>\n",
       "      <td>Source Verified</td>\n",
       "      <td>MORTGAGE</td>\n",
       "      <td>NY</td>\n",
       "      <td>15.02</td>\n",
       "      <td>37.0</td>\n",
       "      <td>7083.519958</td>\n",
       "      <td>0.00</td>\n",
       "      <td>0.0</td>\n",
       "      <td>Fully Paid</td>\n",
       "      <td>1</td>\n",
       "      <td>0.186525</td>\n",
       "    </tr>\n",
       "  </tbody>\n",
       "</table>\n",
       "</div>"
      ],
      "text/plain": [
       "       loan_amnt  loan_term_year grade  int_rate             purpose  \\\n",
       "8230        7000               3     A      7.29               other   \n",
       "9933        4800               5     B     10.74             medical   \n",
       "11966      12000               5     B      8.88             medical   \n",
       "19274       1500               3     A      8.32    home_improvement   \n",
       "18348       6000               3     D     14.74  debt_consolidation   \n",
       "\n",
       "       annual_inc emp_length verification_status home_ownership addr_state  \\\n",
       "8230     150000.0    5 years        Not Verified       MORTGAGE         NY   \n",
       "9933      61000.0    4 years        Not Verified            OWN         NJ   \n",
       "11966     82000.0  10+ years        Not Verified       MORTGAGE         CA   \n",
       "19274     52000.0  10+ years        Not Verified       MORTGAGE         NY   \n",
       "18348     85000.0     1 year     Source Verified       MORTGAGE         NY   \n",
       "\n",
       "         dti  total_acc   total_pymnt  recoveries  collection_recovery_fee  \\\n",
       "8230   19.54       29.0   7622.612042        0.00                      0.0   \n",
       "9933   14.28       43.0    830.000000        0.48                      0.0   \n",
       "11966   2.59       63.0  12348.101170        0.00                      0.0   \n",
       "19274  12.39       39.0   1700.132267        0.00                      0.0   \n",
       "18348  15.02       37.0   7083.519958        0.00                      0.0   \n",
       "\n",
       "       loan_status  repaid  annual_return  \n",
       "8230    Fully Paid       1       0.115668  \n",
       "9933   Charged Off       0      -0.983985  \n",
       "11966   Fully Paid       1       0.066656  \n",
       "19274   Fully Paid       1       0.143581  \n",
       "18348   Fully Paid       1       0.186525  "
      ]
     },
     "execution_count": 59,
     "metadata": {},
     "output_type": "execute_result"
    }
   ],
   "source": [
    "portfolio2 = test_portfolio[l_pred==1]\n",
    "portfolio2.head()"
   ]
  },
  {
   "cell_type": "code",
   "execution_count": 60,
   "id": "01d946b3-a9c7-4d52-98ca-6b19bf12600e",
   "metadata": {
    "tags": []
   },
   "outputs": [
    {
     "data": {
      "text/plain": [
       "(0.10729688794460528, 0.19131171313366813)"
      ]
     },
     "execution_count": 60,
     "metadata": {},
     "output_type": "execute_result"
    }
   ],
   "source": [
    "portfolio2.annual_return.mean(), portfolio2.annual_return.std()"
   ]
  },
  {
   "cell_type": "code",
   "execution_count": 61,
   "id": "b1bff92b-ab89-47f5-b246-188da29d5a90",
   "metadata": {
    "tags": []
   },
   "outputs": [
    {
     "data": {
      "text/plain": [
       "(8.57527943570266, 10.802572741194487)"
      ]
     },
     "execution_count": 61,
     "metadata": {},
     "output_type": "execute_result"
    }
   ],
   "source": [
    "portfolio.int_rate.mean(), portfolio2.int_rate.mean()"
   ]
  },
  {
   "cell_type": "code",
   "execution_count": 62,
   "id": "cfecbfdc-b304-4080-a119-e9fab9f825d6",
   "metadata": {
    "tags": []
   },
   "outputs": [
    {
     "data": {
      "text/plain": [
       "<Axes: xlabel='grade'>"
      ]
     },
     "execution_count": 62,
     "metadata": {},
     "output_type": "execute_result"
    },
    {
     "data": {
      "image/png": "[encoded data removed]",
      "text/plain": [
       "<Figure size 640x480 with 1 Axes>"
      ]
     },
     "metadata": {},
     "output_type": "display_data"
    }
   ],
   "source": [
    "portfolio2.grade.value_counts().plot.bar()"
   ]
  },
  {
   "cell_type": "code",
   "execution_count": 63,
   "id": "ebf63324-2ed0-4d79-8605-4cc8822886be",
   "metadata": {
    "tags": []
   },
   "outputs": [
    {
     "data": {
      "text/plain": [
       "<Axes: xlabel='loan_term_year'>"
      ]
     },
     "execution_count": 63,
     "metadata": {},
     "output_type": "execute_result"
    },
    {
     "data": {
      "image/png": "[encoded data removed]",
      "text/plain": [
       "<Figure size 640x480 with 1 Axes>"
      ]
     },
     "metadata": {},
     "output_type": "display_data"
    }
   ],
   "source": [
    "portfolio2.loan_term_year.value_counts().plot.bar()"
   ]
  },
  {
   "cell_type": "code",
   "execution_count": 64,
   "id": "9715e0fc-361b-4031-af1f-cf5553f3a6f1",
   "metadata": {
    "tags": []
   },
   "outputs": [
    {
     "data": {
      "text/plain": [
       "TtestResult(statistic=3.213187129109025, pvalue=0.0013189932290497723, df=6624.0)"
      ]
     },
     "execution_count": 64,
     "metadata": {},
     "output_type": "execute_result"
    }
   ],
   "source": [
    "from scipy.stats import ttest_ind\n",
    "ttest_ind(portfolio2.annual_return, test_portfolio.annual_return)"
   ]
  },
  {
   "cell_type": "code",
   "execution_count": 65,
   "id": "ec71d37f-bdcc-499a-87a4-172b0829d04a",
   "metadata": {
    "tags": []
   },
   "outputs": [
    {
     "data": {
      "text/plain": [
       "TtestResult(statistic=3.213187129109025, pvalue=0.0013189932290497723, df=6624.0)"
      ]
     },
     "execution_count": 65,
     "metadata": {},
     "output_type": "execute_result"
    }
   ],
   "source": [
    "ttest_ind(portfolio2.annual_return, test_portfolio.annual_return)"
   ]
  },
  {
   "cell_type": "markdown",
   "id": "54cfdfd5-b00d-43f0-91be-ad676b01806b",
   "metadata": {},
   "source": [
    "## Optional Analysis 1: Label Encoding with Logistic Regression"
   ]
  },
  {
   "cell_type": "code",
   "execution_count": 66,
   "id": "b383d4d4-aba5-4013-9400-a8515631c149",
   "metadata": {
    "tags": []
   },
   "outputs": [
    {
     "name": "stdout",
     "output_type": "stream",
     "text": [
      "0.24543780344885316\n",
      "              precision    recall  f1-score   support\n",
      "\n",
      "           0       0.16      0.95      0.27       894\n",
      "           1       0.93      0.12      0.22      5079\n",
      "\n",
      "    accuracy                           0.25      5973\n",
      "   macro avg       0.54      0.53      0.24      5973\n",
      "weighted avg       0.81      0.25      0.22      5973\n",
      "\n"
     ]
    },
    {
     "data": {
      "text/plain": [
       "(0.113912613542809, 0.18331135361400114)"
      ]
     },
     "execution_count": 66,
     "metadata": {},
     "output_type": "execute_result"
    }
   ],
   "source": [
    "from sklearn.preprocessing import LabelEncoder\n",
    "\n",
    "# Initialize the LabelEncoder\n",
    "label_encoder = LabelEncoder()\n",
    "\n",
    "df3 = df.drop(columns=['int_rate', 'grade', 'loan_term_year'])\n",
    "\n",
    "# Ordinal encode emp_length\n",
    "mapping_dict = {\n",
    " '< 1 year':0,\n",
    " '1 year':1,\n",
    " '2 years':2,\n",
    " '3 years':3,\n",
    " '4 years':4,\n",
    " '5 years':5,\n",
    " '6 years':6,\n",
    " '7 years':7,\n",
    " '8 years':8,\n",
    " '9 years':9,\n",
    " '10+ years':10}\n",
    "df3.emp_length = df.emp_length.map(mapping_dict)\n",
    "\n",
    "# Apply LabelEncoder to each categorical feature\n",
    "df3.home_ownership = label_encoder.fit_transform(df['home_ownership'])\n",
    "df3.verification_status = label_encoder.fit_transform(df['verification_status'])\n",
    "df3.purpose = label_encoder.fit_transform(df['purpose'])\n",
    "df3.addr_state = label_encoder.fit_transform(df['addr_state'])\n",
    "\n",
    "data = df3\n",
    "label = loan_df.repaid\n",
    "d_train, d_test, l_train, l_test = train_test_split(data, label, test_size=0.3, random_state=23)\n",
    "\n",
    "model = LogisticRegression(class_weight={0:0.9, 1:0.1})\n",
    "model.fit(d_train, l_train)\n",
    "\n",
    "# Predict on the test set\n",
    "l_pred = model.predict(d_test)\n",
    "\n",
    "# Evaluate the model\n",
    "accuracy = accuracy_score(l_test, l_pred)\n",
    "print(accuracy)\n",
    "class_report = classification_report(l_test, l_pred)\n",
    "print(class_report)\n",
    "\n",
    "test_portfolio = loan_df.loc[d_test.index]\n",
    "portfolio3 = test_portfolio[l_pred==1]\n",
    "portfolio3.annual_return.mean(), portfolio3.annual_return.std()"
   ]
  },
  {
   "cell_type": "code",
   "execution_count": 67,
   "id": "3b05e890-00bf-4519-a706-315cc96b3225",
   "metadata": {},
   "outputs": [
    {
     "data": {
      "image/png": "[encoded data removed]",
      "text/plain": [
       "<Figure size 640x480 with 2 Axes>"
      ]
     },
     "metadata": {},
     "output_type": "display_data"
    }
   ],
   "source": [
    "confusion_matrix(l_test, l_pred, [0, 1])"
   ]
  },
  {
   "cell_type": "markdown",
   "id": "0ae18af1-45df-480b-b641-37c228fe31b0",
   "metadata": {},
   "source": [
    "## Optional Analysis 2: RandomForest Model\n",
    "\n",
    "- Label encode categorical features\n",
    "- Set max_depht to 5 to reduce overfitting\n"
   ]
  },
  {
   "cell_type": "code",
   "execution_count": 68,
   "id": "af7798db-67de-4e1f-8014-03261d0750de",
   "metadata": {
    "tags": []
   },
   "outputs": [
    {
     "name": "stdout",
     "output_type": "stream",
     "text": [
      "0.27540599363803786\n",
      "              precision    recall  f1-score   support\n",
      "\n",
      "           0       0.16      0.94      0.28       894\n",
      "           1       0.94      0.16      0.27      5079\n",
      "\n",
      "    accuracy                           0.28      5973\n",
      "   macro avg       0.55      0.55      0.28      5973\n",
      "weighted avg       0.82      0.28      0.27      5973\n",
      "\n",
      "0.07012260795090526 0.28878256575041106\n"
     ]
    },
    {
     "data": {
      "text/plain": [
       "(0.12157073130207117, 0.17953817586625914)"
      ]
     },
     "execution_count": 68,
     "metadata": {},
     "output_type": "execute_result"
    }
   ],
   "source": [
    "from sklearn.ensemble import RandomForestClassifier\n",
    "from sklearn.preprocessing import LabelEncoder\n",
    "\n",
    "# Initialize the LabelEncoder\n",
    "label_encoder = LabelEncoder()\n",
    "\n",
    "df4 = df.drop(columns=['int_rate', 'grade', 'loan_term_year'])\n",
    "# Ordinal encode emp_length\n",
    "mapping_dict = {\n",
    " '< 1 year':0,\n",
    " '1 year':1,\n",
    " '2 years':2,\n",
    " '3 years':3,\n",
    " '4 years':4,\n",
    " '5 years':5,\n",
    " '6 years':6,\n",
    " '7 years':7,\n",
    " '8 years':8,\n",
    " '9 years':9,\n",
    " '10+ years':10}\n",
    "df4.emp_length = df.emp_length.map(mapping_dict)\n",
    "\n",
    "# Apply LabelEncoder to each categorical feature\n",
    "df4.grade = label_encoder.fit_transform(df['grade'])\n",
    "df4.home_ownership = label_encoder.fit_transform(df['home_ownership'])\n",
    "df4.verification_status = label_encoder.fit_transform(df['verification_status'])\n",
    "df4.purpose = label_encoder.fit_transform(df['purpose'])\n",
    "df4.addr_state = label_encoder.fit_transform(df['addr_state'])\n",
    "\n",
    "data = df4\n",
    "label = loan_df.repaid\n",
    "d_train, d_test, l_train, l_test = train_test_split(data, label, test_size=0.3, random_state=23)\n",
    "\n",
    "rf_model = RandomForestClassifier(max_depth=5, class_weight={0:0.9, 1:0.1})\n",
    "rf_model.fit(d_train, l_train)\n",
    "\n",
    "# Predict on the test set\n",
    "l_pred = rf_model.predict(d_test)\n",
    "\n",
    "# Evaluate the model\n",
    "accuracy = accuracy_score(l_test, l_pred)\n",
    "print(accuracy)\n",
    "class_report = classification_report(l_test, l_pred)\n",
    "print(class_report)\n",
    "\n",
    "test_portfolio = loan_df.loc[d_test.index]\n",
    "portfolio4 = test_portfolio[l_pred==1]\n",
    "print(test_portfolio.annual_return.mean(), test_portfolio.annual_return.std())\n",
    "portfolio4.annual_return.mean(), portfolio4.annual_return.std()"
   ]
  },
  {
   "cell_type": "code",
   "execution_count": 69,
   "id": "d1c5b098-12bc-4a3a-9663-5255d6742940",
   "metadata": {},
   "outputs": [
    {
     "data": {
      "image/png": "[encoded data removed]",
      "text/plain": [
       "<Figure size 640x480 with 2 Axes>"
      ]
     },
     "metadata": {},
     "output_type": "display_data"
    }
   ],
   "source": [
    "confusion_matrix(l_test, l_pred, [0, 1])"
   ]
  },
  {
   "cell_type": "code",
   "execution_count": 70,
   "id": "e87b6a56-b6fd-4e18-b0e3-02a5a676fa4e",
   "metadata": {
    "tags": []
   },
   "outputs": [
    {
     "data": {
      "text/plain": [
       "11.078841251448436"
      ]
     },
     "execution_count": 70,
     "metadata": {},
     "output_type": "execute_result"
    }
   ],
   "source": [
    "portfolio4.int_rate.mean()"
   ]
  },
  {
   "cell_type": "code",
   "execution_count": 71,
   "id": "80234b8e-468d-46f6-94ec-392e232d163f",
   "metadata": {
    "tags": []
   },
   "outputs": [
    {
     "data": {
      "text/plain": [
       "<Axes: xlabel='grade'>"
      ]
     },
     "execution_count": 71,
     "metadata": {},
     "output_type": "execute_result"
    },
    {
     "data": {
      "image/png": "[encoded data removed]",
      "text/plain": [
       "<Figure size 640x480 with 1 Axes>"
      ]
     },
     "metadata": {},
     "output_type": "display_data"
    }
   ],
   "source": [
    "portfolio4.grade.value_counts().plot.bar()"
   ]
  },
  {
   "cell_type": "code",
   "execution_count": 72,
   "id": "47f1b26e-d3c7-45fd-98a8-cf65a2cd64d6",
   "metadata": {
    "tags": []
   },
   "outputs": [
    {
     "data": {
      "text/plain": [
       "<Axes: xlabel='loan_term_year'>"
      ]
     },
     "execution_count": 72,
     "metadata": {},
     "output_type": "execute_result"
    },
    {
     "data": {
      "image/png": "[encoded data removed]",
      "text/plain": [
       "<Figure size 640x480 with 1 Axes>"
      ]
     },
     "metadata": {},
     "output_type": "display_data"
    }
   ],
   "source": [
    "portfolio4.loan_term_year.value_counts().plot.bar()"
   ]
  }
 ],
 "metadata": {
  "kernelspec": {
   "display_name": "Python 3 (ipykernel)",
   "language": "python",
   "name": "python3"
  },
  "language_info": {
   "codemirror_mode": {
    "name": "ipython",
    "version": 3
   },
   "file_extension": ".py",
   "mimetype": "text/x-python",
   "name": "python",
   "nbconvert_exporter": "python",
   "pygments_lexer": "ipython3",
   "version": "3.12.4"
  }
 },
 "nbformat": 4,
 "nbformat_minor": 5
}
